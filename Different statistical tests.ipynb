{
 "cells": [
  {
   "cell_type": "markdown",
   "id": "461ca126",
   "metadata": {},
   "source": [
    "## Read advertising.csv"
   ]
  },
  {
   "cell_type": "code",
   "execution_count": 3,
   "id": "42050644",
   "metadata": {},
   "outputs": [],
   "source": [
    "import pandas as pd"
   ]
  },
  {
   "cell_type": "code",
   "execution_count": 5,
   "id": "8b831898",
   "metadata": {},
   "outputs": [
    {
     "name": "stdout",
     "output_type": "stream",
     "text": [
      "<class 'pandas.core.frame.DataFrame'>\n",
      "RangeIndex: 1000 entries, 0 to 999\n",
      "Data columns (total 10 columns):\n",
      " #   Column                    Non-Null Count  Dtype  \n",
      "---  ------                    --------------  -----  \n",
      " 0   Daily Time Spent on Site  1000 non-null   float64\n",
      " 1   Age                       1000 non-null   int64  \n",
      " 2   Area Income               1000 non-null   float64\n",
      " 3   Daily Internet Usage      1000 non-null   float64\n",
      " 4   Ad Topic Line             1000 non-null   object \n",
      " 5   City                      1000 non-null   object \n",
      " 6   Male                      1000 non-null   int64  \n",
      " 7   Country                   1000 non-null   object \n",
      " 8   Timestamp                 1000 non-null   object \n",
      " 9   Clicked on Ad             1000 non-null   int64  \n",
      "dtypes: float64(3), int64(3), object(4)\n",
      "memory usage: 78.2+ KB\n"
     ]
    }
   ],
   "source": [
    "df = pd.read_csv('advertising.csv')\n",
    "df.info()"
   ]
  },
  {
   "cell_type": "code",
   "execution_count": 6,
   "id": "af9956c1",
   "metadata": {},
   "outputs": [
    {
     "data": {
      "text/html": [
       "<div>\n",
       "<style scoped>\n",
       "    .dataframe tbody tr th:only-of-type {\n",
       "        vertical-align: middle;\n",
       "    }\n",
       "\n",
       "    .dataframe tbody tr th {\n",
       "        vertical-align: top;\n",
       "    }\n",
       "\n",
       "    .dataframe thead th {\n",
       "        text-align: right;\n",
       "    }\n",
       "</style>\n",
       "<table border=\"1\" class=\"dataframe\">\n",
       "  <thead>\n",
       "    <tr style=\"text-align: right;\">\n",
       "      <th></th>\n",
       "      <th>Daily Time Spent on Site</th>\n",
       "      <th>Age</th>\n",
       "      <th>Area Income</th>\n",
       "      <th>Daily Internet Usage</th>\n",
       "      <th>Ad Topic Line</th>\n",
       "      <th>City</th>\n",
       "      <th>Male</th>\n",
       "      <th>Country</th>\n",
       "      <th>Timestamp</th>\n",
       "      <th>Clicked on Ad</th>\n",
       "    </tr>\n",
       "  </thead>\n",
       "  <tbody>\n",
       "    <tr>\n",
       "      <th>0</th>\n",
       "      <td>68.95</td>\n",
       "      <td>35</td>\n",
       "      <td>61833.90</td>\n",
       "      <td>256.09</td>\n",
       "      <td>Cloned 5thgeneration orchestration</td>\n",
       "      <td>Wrightburgh</td>\n",
       "      <td>0</td>\n",
       "      <td>Tunisia</td>\n",
       "      <td>2016-03-27 00:53:11</td>\n",
       "      <td>0</td>\n",
       "    </tr>\n",
       "    <tr>\n",
       "      <th>1</th>\n",
       "      <td>80.23</td>\n",
       "      <td>31</td>\n",
       "      <td>68441.85</td>\n",
       "      <td>193.77</td>\n",
       "      <td>Monitored national standardization</td>\n",
       "      <td>West Jodi</td>\n",
       "      <td>1</td>\n",
       "      <td>Nauru</td>\n",
       "      <td>2016-04-04 01:39:02</td>\n",
       "      <td>0</td>\n",
       "    </tr>\n",
       "    <tr>\n",
       "      <th>2</th>\n",
       "      <td>69.47</td>\n",
       "      <td>26</td>\n",
       "      <td>59785.94</td>\n",
       "      <td>236.50</td>\n",
       "      <td>Organic bottom-line service-desk</td>\n",
       "      <td>Davidton</td>\n",
       "      <td>0</td>\n",
       "      <td>San Marino</td>\n",
       "      <td>2016-03-13 20:35:42</td>\n",
       "      <td>0</td>\n",
       "    </tr>\n",
       "    <tr>\n",
       "      <th>3</th>\n",
       "      <td>74.15</td>\n",
       "      <td>29</td>\n",
       "      <td>54806.18</td>\n",
       "      <td>245.89</td>\n",
       "      <td>Triple-buffered reciprocal time-frame</td>\n",
       "      <td>West Terrifurt</td>\n",
       "      <td>1</td>\n",
       "      <td>Italy</td>\n",
       "      <td>2016-01-10 02:31:19</td>\n",
       "      <td>0</td>\n",
       "    </tr>\n",
       "    <tr>\n",
       "      <th>4</th>\n",
       "      <td>68.37</td>\n",
       "      <td>35</td>\n",
       "      <td>73889.99</td>\n",
       "      <td>225.58</td>\n",
       "      <td>Robust logistical utilization</td>\n",
       "      <td>South Manuel</td>\n",
       "      <td>0</td>\n",
       "      <td>Iceland</td>\n",
       "      <td>2016-06-03 03:36:18</td>\n",
       "      <td>0</td>\n",
       "    </tr>\n",
       "  </tbody>\n",
       "</table>\n",
       "</div>"
      ],
      "text/plain": [
       "   Daily Time Spent on Site  Age  Area Income  Daily Internet Usage  \\\n",
       "0                     68.95   35     61833.90                256.09   \n",
       "1                     80.23   31     68441.85                193.77   \n",
       "2                     69.47   26     59785.94                236.50   \n",
       "3                     74.15   29     54806.18                245.89   \n",
       "4                     68.37   35     73889.99                225.58   \n",
       "\n",
       "                           Ad Topic Line            City  Male     Country  \\\n",
       "0     Cloned 5thgeneration orchestration     Wrightburgh     0     Tunisia   \n",
       "1     Monitored national standardization       West Jodi     1       Nauru   \n",
       "2       Organic bottom-line service-desk        Davidton     0  San Marino   \n",
       "3  Triple-buffered reciprocal time-frame  West Terrifurt     1       Italy   \n",
       "4          Robust logistical utilization    South Manuel     0     Iceland   \n",
       "\n",
       "             Timestamp  Clicked on Ad  \n",
       "0  2016-03-27 00:53:11              0  \n",
       "1  2016-04-04 01:39:02              0  \n",
       "2  2016-03-13 20:35:42              0  \n",
       "3  2016-01-10 02:31:19              0  \n",
       "4  2016-06-03 03:36:18              0  "
      ]
     },
     "execution_count": 6,
     "metadata": {},
     "output_type": "execute_result"
    }
   ],
   "source": [
    "df.head()"
   ]
  },
  {
   "cell_type": "markdown",
   "id": "48f07234",
   "metadata": {},
   "source": [
    "## Comparing Proportions (CI - Hypothesis Test)\n",
    "### Check for significance difference between Male and Female in Daily Time Spent on Site.\n",
    "### Find the CI for this difference.\n",
    "### Define and write your null and alternate hypothesis.\n",
    "### Write your conclusion (Reject/not reject null hypothesis) and explain what does it mean (there is significance difference or not).\n",
    "### Solve using the calculation steps and confirm using \"scipy.stats.ttest_ind()\""
   ]
  },
  {
   "cell_type": "code",
   "execution_count": 8,
   "id": "8aa4e3b3",
   "metadata": {},
   "outputs": [
    {
     "data": {
      "text/plain": [
       "0    519\n",
       "1    481\n",
       "Name: Male, dtype: int64"
      ]
     },
     "execution_count": 8,
     "metadata": {},
     "output_type": "execute_result"
    }
   ],
   "source": [
    "df['Male'].value_counts()"
   ]
  },
  {
   "cell_type": "code",
   "execution_count": 9,
   "id": "af7b0f7e",
   "metadata": {},
   "outputs": [
    {
     "data": {
      "text/plain": [
       "0    500\n",
       "1    500\n",
       "Name: Clicked on Ad, dtype: int64"
      ]
     },
     "execution_count": 9,
     "metadata": {},
     "output_type": "execute_result"
    }
   ],
   "source": [
    "df['Clicked on Ad'].value_counts()"
   ]
  },
  {
   "cell_type": "code",
   "execution_count": 10,
   "id": "dfb58a2b",
   "metadata": {},
   "outputs": [],
   "source": [
    "import seaborn as sns"
   ]
  },
  {
   "cell_type": "code",
   "execution_count": 11,
   "id": "c47213dd",
   "metadata": {},
   "outputs": [
    {
     "data": {
      "text/plain": [
       "<AxesSubplot: xlabel='Clicked on Ad', ylabel='count'>"
      ]
     },
     "execution_count": 11,
     "metadata": {},
     "output_type": "execute_result"
    },
    {
     "data": {
      "image/png": "[encoded data removed]",
      "text/plain": [
       "<Figure size 432x288 with 1 Axes>"
      ]
     },
     "metadata": {
      "needs_background": "light"
     },
     "output_type": "display_data"
    }
   ],
   "source": [
    "sns.countplot(data = df, x = df['Clicked on Ad'] , hue = df['Male'])"
   ]
  },
  {
   "cell_type": "code",
   "execution_count": 75,
   "id": "cc5e4d29",
   "metadata": {},
   "outputs": [
    {
     "data": {
      "text/plain": [
       "<seaborn.axisgrid.FacetGrid at 0x17a93638490>"
      ]
     },
     "execution_count": 75,
     "metadata": {},
     "output_type": "execute_result"
    },
    {
     "data": {
      "image/png": "[encoded data removed]",
      "text/plain": [
       "<Figure size 360x360 with 1 Axes>"
      ]
     },
     "metadata": {
      "needs_background": "light"
     },
     "output_type": "display_data"
    }
   ],
   "source": [
    "sns.catplot(data = df, x = 'Male', y = 'Clicked on Ad' ,kind = 'bar')"
   ]
  },
  {
   "cell_type": "code",
   "execution_count": 39,
   "id": "e568b454",
   "metadata": {},
   "outputs": [
    {
     "name": "stderr",
     "output_type": "stream",
     "text": [
      "C:\\Users\\marwa\\AppData\\Local\\Temp\\ipykernel_4868\\2679350930.py:1: FutureWarning: ['Ad Topic Line', 'City', 'Country', 'Timestamp'] did not aggregate successfully. If any error is raised this will raise in a future version of pandas. Drop these columns/ops to avoid this warning.\n",
      "  summary = df.groupby('Male').agg(['count','mean','std'])['Clicked on Ad']\n"
     ]
    },
    {
     "data": {
      "text/html": [
       "<div>\n",
       "<style scoped>\n",
       "    .dataframe tbody tr th:only-of-type {\n",
       "        vertical-align: middle;\n",
       "    }\n",
       "\n",
       "    .dataframe tbody tr th {\n",
       "        vertical-align: top;\n",
       "    }\n",
       "\n",
       "    .dataframe thead th {\n",
       "        text-align: right;\n",
       "    }\n",
       "</style>\n",
       "<table border=\"1\" class=\"dataframe\">\n",
       "  <thead>\n",
       "    <tr style=\"text-align: right;\">\n",
       "      <th></th>\n",
       "      <th>count</th>\n",
       "      <th>mean</th>\n",
       "      <th>std</th>\n",
       "    </tr>\n",
       "    <tr>\n",
       "      <th>Male</th>\n",
       "      <th></th>\n",
       "      <th></th>\n",
       "      <th></th>\n",
       "    </tr>\n",
       "  </thead>\n",
       "  <tbody>\n",
       "    <tr>\n",
       "      <th>0</th>\n",
       "      <td>519</td>\n",
       "      <td>0.518304</td>\n",
       "      <td>0.500147</td>\n",
       "    </tr>\n",
       "    <tr>\n",
       "      <th>1</th>\n",
       "      <td>481</td>\n",
       "      <td>0.480249</td>\n",
       "      <td>0.500130</td>\n",
       "    </tr>\n",
       "  </tbody>\n",
       "</table>\n",
       "</div>"
      ],
      "text/plain": [
       "      count      mean       std\n",
       "Male                           \n",
       "0       519  0.518304  0.500147\n",
       "1       481  0.480249  0.500130"
      ]
     },
     "execution_count": 39,
     "metadata": {},
     "output_type": "execute_result"
    }
   ],
   "source": [
    "summary = df.groupby('Male').agg(['count','mean','std'])['Clicked on Ad']\n",
    "summary.head()"
   ]
  },
  {
   "cell_type": "code",
   "execution_count": 59,
   "id": "256c0f6b",
   "metadata": {},
   "outputs": [
    {
     "name": "stdout",
     "output_type": "stream",
     "text": [
      "0.038054951349748956\n"
     ]
    }
   ],
   "source": [
    "p_males = summary.iloc[1,1]\n",
    "p_females = summary.iloc[0,1]\n",
    "n_males = summary.iloc[1,0]\n",
    "n_females = summary.iloc[0,0]\n",
    "sigma_m = p_males*(1-p_males)/n_males\n",
    "sigma_f = p_females*(1-p_females)/n_females\n",
    "diff = p_females - p_males\n",
    "print(diff)"
   ]
  },
  {
   "cell_type": "code",
   "execution_count": 60,
   "id": "fe4532f4",
   "metadata": {},
   "outputs": [
    {
     "data": {
      "text/plain": [
       "0.03162261108841621"
      ]
     },
     "execution_count": 60,
     "metadata": {},
     "output_type": "execute_result"
    }
   ],
   "source": [
    "import numpy as np\n",
    "error = np.sqrt(sigma_m + sigma_f)\n",
    "error"
   ]
  },
  {
   "cell_type": "code",
   "execution_count": 61,
   "id": "86d09fb0",
   "metadata": {},
   "outputs": [
    {
     "data": {
      "text/plain": [
       "1.959963984540054"
      ]
     },
     "execution_count": 61,
     "metadata": {},
     "output_type": "execute_result"
    }
   ],
   "source": [
    "from scipy.stats import norm\n",
    "z_critical = norm.ppf((0.95/2)+0.5 )\n",
    "z_critical\n",
    "# z critical value for 95% confidence interval"
   ]
  },
  {
   "cell_type": "code",
   "execution_count": 62,
   "id": "c37ce5e4",
   "metadata": {},
   "outputs": [
    {
     "data": {
      "text/plain": [
       "[-0.023924227480663765, 0.10003413018016168]"
      ]
     },
     "execution_count": 62,
     "metadata": {},
     "output_type": "execute_result"
    }
   ],
   "source": [
    "intervals = [diff-z_critical*error, diff + z_critical*error]\n",
    "intervals"
   ]
  },
  {
   "cell_type": "code",
   "execution_count": 64,
   "id": "3340d5b7",
   "metadata": {},
   "outputs": [
    {
     "name": "stdout",
     "output_type": "stream",
     "text": [
      "z_score  1.203409523753369\n",
      "p_value  0.2288178842374482\n"
     ]
    }
   ],
   "source": [
    "# given that null hyp is that difference = 0\n",
    "z_score = diff/np.sqrt(sigma_m + sigma_f)\n",
    "print('z_score ',z_score)\n",
    "p_value = (1-norm.cdf(z_score))*2\n",
    "print('p_value ', p_value)\n",
    "# Fail to reject the null hyp as the value is not statisticaly significant"
   ]
  },
  {
   "cell_type": "code",
   "execution_count": 81,
   "id": "cb6d113f",
   "metadata": {},
   "outputs": [
    {
     "data": {
      "text/plain": [
       "Ttest_indResult(statistic=-1.2022004765958763, pvalue=0.22957103161130848)"
      ]
     },
     "execution_count": 81,
     "metadata": {},
     "output_type": "execute_result"
    }
   ],
   "source": [
    "from scipy.stats import ttest_ind\n",
    "ttest_ind( a = df[df['Male'] == 1]['Clicked on Ad'], b = df[df['Male'] == 0]['Clicked on Ad'])\n"
   ]
  },
  {
   "cell_type": "markdown",
   "id": "164ab350",
   "metadata": {},
   "source": [
    "## Comparing Proportions (CI - Hypothesis Test)\n",
    "### Check for significance difference between Male and Female in Click on Ad.\n",
    "### Find the CI for this difference.\n",
    "### Define and write your null and alternate hypothesis.\n",
    "### Write your conclusion (Reject/not reject null hypothesis) and explain what does it mean (there is significance difference or not).\n",
    "### Solve using the calculation steps and confirm using \"scipy.stats.ttest_ind()\""
   ]
  },
  {
   "cell_type": "code",
   "execution_count": 65,
   "id": "35743408",
   "metadata": {},
   "outputs": [
    {
     "name": "stderr",
     "output_type": "stream",
     "text": [
      "C:\\Users\\marwa\\AppData\\Local\\Temp\\ipykernel_4868\\1668850385.py:1: FutureWarning: ['Ad Topic Line', 'City', 'Country', 'Timestamp'] did not aggregate successfully. If any error is raised this will raise in a future version of pandas. Drop these columns/ops to avoid this warning.\n",
      "  summary = df.groupby('Male').agg(['count','mean','std'])['Daily Time Spent on Site']\n"
     ]
    },
    {
     "data": {
      "text/html": [
       "<div>\n",
       "<style scoped>\n",
       "    .dataframe tbody tr th:only-of-type {\n",
       "        vertical-align: middle;\n",
       "    }\n",
       "\n",
       "    .dataframe tbody tr th {\n",
       "        vertical-align: top;\n",
       "    }\n",
       "\n",
       "    .dataframe thead th {\n",
       "        text-align: right;\n",
       "    }\n",
       "</style>\n",
       "<table border=\"1\" class=\"dataframe\">\n",
       "  <thead>\n",
       "    <tr style=\"text-align: right;\">\n",
       "      <th></th>\n",
       "      <th>count</th>\n",
       "      <th>mean</th>\n",
       "      <th>std</th>\n",
       "    </tr>\n",
       "    <tr>\n",
       "      <th>Male</th>\n",
       "      <th></th>\n",
       "      <th></th>\n",
       "      <th></th>\n",
       "    </tr>\n",
       "  </thead>\n",
       "  <tbody>\n",
       "    <tr>\n",
       "      <th>0</th>\n",
       "      <td>519</td>\n",
       "      <td>65.289287</td>\n",
       "      <td>15.623040</td>\n",
       "    </tr>\n",
       "    <tr>\n",
       "      <th>1</th>\n",
       "      <td>481</td>\n",
       "      <td>64.688274</td>\n",
       "      <td>16.109163</td>\n",
       "    </tr>\n",
       "  </tbody>\n",
       "</table>\n",
       "</div>"
      ],
      "text/plain": [
       "      count       mean        std\n",
       "Male                             \n",
       "0       519  65.289287  15.623040\n",
       "1       481  64.688274  16.109163"
      ]
     },
     "execution_count": 65,
     "metadata": {},
     "output_type": "execute_result"
    }
   ],
   "source": [
    "summary = df.groupby('Male').agg(['count','mean','std'])['Daily Time Spent on Site']\n",
    "summary.head()"
   ]
  },
  {
   "cell_type": "code",
   "execution_count": 92,
   "id": "271ca4fb",
   "metadata": {},
   "outputs": [],
   "source": [
    "mean_m = summary.iloc[1,1]\n",
    "mean_f = summary.iloc[0,1]\n",
    "n_males = summary.iloc[1,0]\n",
    "n_females = summary.iloc[0,0]\n",
    "sigma_m = np.square(summary.iloc[1,2])\n",
    "sigma_f = np.square(summary.iloc[0,2])\n",
    "diff = mean_f - mean_m"
   ]
  },
  {
   "cell_type": "code",
   "execution_count": 69,
   "id": "0d0695e7",
   "metadata": {},
   "outputs": [
    {
     "data": {
      "text/plain": [
       "<AxesSubplot: xlabel='Male', ylabel='Daily Time Spent on Site'>"
      ]
     },
     "execution_count": 69,
     "metadata": {},
     "output_type": "execute_result"
    },
    {
     "data": {
      "image/png": "[encoded data removed]",
      "text/plain": [
       "<Figure size 432x288 with 1 Axes>"
      ]
     },
     "metadata": {
      "needs_background": "light"
     },
     "output_type": "display_data"
    }
   ],
   "source": [
    "sns.boxplot(data = df, x = df['Male'] ,y = df['Daily Time Spent on Site'])"
   ]
  },
  {
   "cell_type": "code",
   "execution_count": 70,
   "id": "82dc27ab",
   "metadata": {},
   "outputs": [
    {
     "data": {
      "text/plain": [
       "<AxesSubplot: xlabel='Male', ylabel='Daily Time Spent on Site'>"
      ]
     },
     "execution_count": 70,
     "metadata": {},
     "output_type": "execute_result"
    },
    {
     "data": {
      "image/png": "[encoded data removed]",
      "text/plain": [
       "<Figure size 432x288 with 1 Axes>"
      ]
     },
     "metadata": {
      "needs_background": "light"
     },
     "output_type": "display_data"
    }
   ],
   "source": [
    "sns.violinplot(data = df, x = df['Male'] ,y = df['Daily Time Spent on Site'])"
   ]
  },
  {
   "cell_type": "code",
   "execution_count": 86,
   "id": "3d33c427",
   "metadata": {},
   "outputs": [
    {
     "data": {
      "text/plain": [
       "1.9623438462163336"
      ]
     },
     "execution_count": 86,
     "metadata": {},
     "output_type": "execute_result"
    }
   ],
   "source": [
    "from scipy.stats import t\n",
    "t_critical = t.ppf( (0.95/2)+0.5, 998 )\n",
    "t_critical"
   ]
  },
  {
   "cell_type": "code",
   "execution_count": 94,
   "id": "0ff6ceed",
   "metadata": {},
   "outputs": [
    {
     "data": {
      "text/plain": [
       "1.0048878254609044"
      ]
     },
     "execution_count": 94,
     "metadata": {},
     "output_type": "execute_result"
    }
   ],
   "source": [
    "error = np.sqrt(sigma_m/n_males + sigma_f/n_females)\n",
    "error"
   ]
  },
  {
   "cell_type": "code",
   "execution_count": 87,
   "id": "914d820e",
   "metadata": {},
   "outputs": [
    {
     "name": "stdout",
     "output_type": "stream",
     "text": [
      "Difference in mean:  0.6010126622843472\n"
     ]
    }
   ],
   "source": [
    "print('Difference in mean: ', diff)"
   ]
  },
  {
   "cell_type": "code",
   "execution_count": 95,
   "id": "9845a5f8",
   "metadata": {},
   "outputs": [
    {
     "name": "stdout",
     "output_type": "stream",
     "text": [
      "95% CI: [-1.3709227781465716, 2.572948102715266]\n"
     ]
    }
   ],
   "source": [
    "intervals = [diff-t_critical*error, diff+t_critical*error]\n",
    "print('95% CI:',intervals )"
   ]
  },
  {
   "cell_type": "code",
   "execution_count": 100,
   "id": "785a10e2",
   "metadata": {},
   "outputs": [
    {
     "name": "stdout",
     "output_type": "stream",
     "text": [
      "t_score  0.5980893061458729\n",
      "p_value  0.4500839568868187\n"
     ]
    }
   ],
   "source": [
    "t_score = (diff-0)/error\n",
    "print('t_score ', t_score)\n",
    "p_value = (t.cdf(t_score, 998)-0.5)*2\n",
    "print('p_value ',p_value)"
   ]
  },
  {
   "cell_type": "markdown",
   "id": "caea87e9",
   "metadata": {},
   "source": [
    "## Paired t-test\n",
    "### Check for significant difference in Daily Time Spent on Site in April and May.\n",
    "### Solve using the calculation steps and confirm using \"scipy.stats.ttest_rel()\"\n",
    "### Write your conclusion."
   ]
  },
  {
   "cell_type": "code",
   "execution_count": 102,
   "id": "8b18d8d8",
   "metadata": {},
   "outputs": [
    {
     "data": {
      "text/html": [
       "<div>\n",
       "<style scoped>\n",
       "    .dataframe tbody tr th:only-of-type {\n",
       "        vertical-align: middle;\n",
       "    }\n",
       "\n",
       "    .dataframe tbody tr th {\n",
       "        vertical-align: top;\n",
       "    }\n",
       "\n",
       "    .dataframe thead th {\n",
       "        text-align: right;\n",
       "    }\n",
       "</style>\n",
       "<table border=\"1\" class=\"dataframe\">\n",
       "  <thead>\n",
       "    <tr style=\"text-align: right;\">\n",
       "      <th></th>\n",
       "      <th>Daily Time Spent on Site</th>\n",
       "      <th>Age</th>\n",
       "      <th>Area Income</th>\n",
       "      <th>Daily Internet Usage</th>\n",
       "      <th>Ad Topic Line</th>\n",
       "      <th>City</th>\n",
       "      <th>Male</th>\n",
       "      <th>Country</th>\n",
       "      <th>Timestamp</th>\n",
       "      <th>Clicked on Ad</th>\n",
       "    </tr>\n",
       "  </thead>\n",
       "  <tbody>\n",
       "    <tr>\n",
       "      <th>0</th>\n",
       "      <td>68.95</td>\n",
       "      <td>35</td>\n",
       "      <td>61833.90</td>\n",
       "      <td>256.09</td>\n",
       "      <td>Cloned 5thgeneration orchestration</td>\n",
       "      <td>Wrightburgh</td>\n",
       "      <td>0</td>\n",
       "      <td>Tunisia</td>\n",
       "      <td>2016-03-27 00:53:11</td>\n",
       "      <td>0</td>\n",
       "    </tr>\n",
       "    <tr>\n",
       "      <th>1</th>\n",
       "      <td>80.23</td>\n",
       "      <td>31</td>\n",
       "      <td>68441.85</td>\n",
       "      <td>193.77</td>\n",
       "      <td>Monitored national standardization</td>\n",
       "      <td>West Jodi</td>\n",
       "      <td>1</td>\n",
       "      <td>Nauru</td>\n",
       "      <td>2016-04-04 01:39:02</td>\n",
       "      <td>0</td>\n",
       "    </tr>\n",
       "    <tr>\n",
       "      <th>2</th>\n",
       "      <td>69.47</td>\n",
       "      <td>26</td>\n",
       "      <td>59785.94</td>\n",
       "      <td>236.50</td>\n",
       "      <td>Organic bottom-line service-desk</td>\n",
       "      <td>Davidton</td>\n",
       "      <td>0</td>\n",
       "      <td>San Marino</td>\n",
       "      <td>2016-03-13 20:35:42</td>\n",
       "      <td>0</td>\n",
       "    </tr>\n",
       "    <tr>\n",
       "      <th>3</th>\n",
       "      <td>74.15</td>\n",
       "      <td>29</td>\n",
       "      <td>54806.18</td>\n",
       "      <td>245.89</td>\n",
       "      <td>Triple-buffered reciprocal time-frame</td>\n",
       "      <td>West Terrifurt</td>\n",
       "      <td>1</td>\n",
       "      <td>Italy</td>\n",
       "      <td>2016-01-10 02:31:19</td>\n",
       "      <td>0</td>\n",
       "    </tr>\n",
       "    <tr>\n",
       "      <th>4</th>\n",
       "      <td>68.37</td>\n",
       "      <td>35</td>\n",
       "      <td>73889.99</td>\n",
       "      <td>225.58</td>\n",
       "      <td>Robust logistical utilization</td>\n",
       "      <td>South Manuel</td>\n",
       "      <td>0</td>\n",
       "      <td>Iceland</td>\n",
       "      <td>2016-06-03 03:36:18</td>\n",
       "      <td>0</td>\n",
       "    </tr>\n",
       "  </tbody>\n",
       "</table>\n",
       "</div>"
      ],
      "text/plain": [
       "   Daily Time Spent on Site  Age  Area Income  Daily Internet Usage  \\\n",
       "0                     68.95   35     61833.90                256.09   \n",
       "1                     80.23   31     68441.85                193.77   \n",
       "2                     69.47   26     59785.94                236.50   \n",
       "3                     74.15   29     54806.18                245.89   \n",
       "4                     68.37   35     73889.99                225.58   \n",
       "\n",
       "                           Ad Topic Line            City  Male     Country  \\\n",
       "0     Cloned 5thgeneration orchestration     Wrightburgh     0     Tunisia   \n",
       "1     Monitored national standardization       West Jodi     1       Nauru   \n",
       "2       Organic bottom-line service-desk        Davidton     0  San Marino   \n",
       "3  Triple-buffered reciprocal time-frame  West Terrifurt     1       Italy   \n",
       "4          Robust logistical utilization    South Manuel     0     Iceland   \n",
       "\n",
       "             Timestamp  Clicked on Ad  \n",
       "0  2016-03-27 00:53:11              0  \n",
       "1  2016-04-04 01:39:02              0  \n",
       "2  2016-03-13 20:35:42              0  \n",
       "3  2016-01-10 02:31:19              0  \n",
       "4  2016-06-03 03:36:18              0  "
      ]
     },
     "execution_count": 102,
     "metadata": {},
     "output_type": "execute_result"
    }
   ],
   "source": [
    "df.head()"
   ]
  },
  {
   "cell_type": "code",
   "execution_count": 114,
   "id": "6983079f",
   "metadata": {},
   "outputs": [
    {
     "data": {
      "text/plain": [
       "1"
      ]
     },
     "execution_count": 114,
     "metadata": {},
     "output_type": "execute_result"
    }
   ],
   "source": [
    "from datetime import datetime\n",
    "values = pd.DatetimeIndex(df['Timestamp']).year\n",
    "values.nunique()\n",
    "#Sincce its one year so its safe to work on the level of months on the whole dataset"
   ]
  },
  {
   "cell_type": "code",
   "execution_count": 116,
   "id": "97807db3",
   "metadata": {},
   "outputs": [
    {
     "name": "stdout",
     "output_type": "stream",
     "text": [
      "<class 'pandas.core.frame.DataFrame'>\n",
      "RangeIndex: 1000 entries, 0 to 999\n",
      "Data columns (total 11 columns):\n",
      " #   Column                    Non-Null Count  Dtype  \n",
      "---  ------                    --------------  -----  \n",
      " 0   Daily Time Spent on Site  1000 non-null   float64\n",
      " 1   Age                       1000 non-null   int64  \n",
      " 2   Area Income               1000 non-null   float64\n",
      " 3   Daily Internet Usage      1000 non-null   float64\n",
      " 4   Ad Topic Line             1000 non-null   object \n",
      " 5   City                      1000 non-null   object \n",
      " 6   Male                      1000 non-null   int64  \n",
      " 7   Country                   1000 non-null   object \n",
      " 8   Timestamp                 1000 non-null   object \n",
      " 9   Clicked on Ad             1000 non-null   int64  \n",
      " 10  Month                     1000 non-null   int64  \n",
      "dtypes: float64(3), int64(4), object(4)\n",
      "memory usage: 86.1+ KB\n"
     ]
    }
   ],
   "source": [
    "df['Month'] = pd.DatetimeIndex(df['Timestamp']).month\n",
    "df.info()"
   ]
  },
  {
   "cell_type": "code",
   "execution_count": 129,
   "id": "83a68a24",
   "metadata": {},
   "outputs": [
    {
     "name": "stderr",
     "output_type": "stream",
     "text": [
      "C:\\Users\\marwa\\AppData\\Local\\Temp\\ipykernel_4868\\2836301909.py:1: FutureWarning: ['Ad Topic Line', 'City', 'Country', 'Timestamp'] did not aggregate successfully. If any error is raised this will raise in a future version of pandas. Drop these columns/ops to avoid this warning.\n",
      "  summary = df[(df['Month'] == 4) | ( df['Month'] == 5)].groupby('Month').agg(['count', 'mean', 'std'])['Daily Time Spent on Site']\n"
     ]
    },
    {
     "data": {
      "text/html": [
       "<div>\n",
       "<style scoped>\n",
       "    .dataframe tbody tr th:only-of-type {\n",
       "        vertical-align: middle;\n",
       "    }\n",
       "\n",
       "    .dataframe tbody tr th {\n",
       "        vertical-align: top;\n",
       "    }\n",
       "\n",
       "    .dataframe thead th {\n",
       "        text-align: right;\n",
       "    }\n",
       "</style>\n",
       "<table border=\"1\" class=\"dataframe\">\n",
       "  <thead>\n",
       "    <tr style=\"text-align: right;\">\n",
       "      <th></th>\n",
       "      <th>count</th>\n",
       "      <th>mean</th>\n",
       "      <th>std</th>\n",
       "    </tr>\n",
       "    <tr>\n",
       "      <th>Month</th>\n",
       "      <th></th>\n",
       "      <th></th>\n",
       "      <th></th>\n",
       "    </tr>\n",
       "  </thead>\n",
       "  <tbody>\n",
       "    <tr>\n",
       "      <th>4</th>\n",
       "      <td>147</td>\n",
       "      <td>65.658844</td>\n",
       "      <td>16.045114</td>\n",
       "    </tr>\n",
       "    <tr>\n",
       "      <th>5</th>\n",
       "      <td>147</td>\n",
       "      <td>64.045306</td>\n",
       "      <td>15.988482</td>\n",
       "    </tr>\n",
       "  </tbody>\n",
       "</table>\n",
       "</div>"
      ],
      "text/plain": [
       "       count       mean        std\n",
       "Month                             \n",
       "4        147  65.658844  16.045114\n",
       "5        147  64.045306  15.988482"
      ]
     },
     "execution_count": 129,
     "metadata": {},
     "output_type": "execute_result"
    }
   ],
   "source": [
    "summary = df[(df['Month'] == 4) | ( df['Month'] == 5)].groupby('Month').agg(['count', 'mean', 'std'])['Daily Time Spent on Site']\n",
    "summary.head()"
   ]
  },
  {
   "cell_type": "code",
   "execution_count": 139,
   "id": "2f4208ce",
   "metadata": {},
   "outputs": [],
   "source": [
    "april_count = summary.iloc[0,0]\n",
    "april_mean = summary.iloc[0,1]\n",
    "april_sigma = np.square(summary.iloc[0,2])\n",
    "\n",
    "may_count = summary.iloc[1,0]\n",
    "may_mean = summary.iloc[1,1]\n",
    "may_sigma = np.square(summary.iloc[1,2])\n",
    "#setting up the variables"
   ]
  },
  {
   "cell_type": "code",
   "execution_count": 140,
   "id": "e6d77ccc",
   "metadata": {},
   "outputs": [
    {
     "name": "stdout",
     "output_type": "stream",
     "text": [
      "1.6135374149659896\n"
     ]
    }
   ],
   "source": [
    "diff = april_mean - may_mean\n",
    "print(diff)"
   ]
  },
  {
   "cell_type": "code",
   "execution_count": 141,
   "id": "5f0bf2e8",
   "metadata": {},
   "outputs": [
    {
     "name": "stdout",
     "output_type": "stream",
     "text": [
      "1.8682401540388411\n"
     ]
    }
   ],
   "source": [
    "std_error = np.sqrt( (april_sigma/april_count) + (may_sigma/may_count))\n",
    "print(std_error)"
   ]
  },
  {
   "cell_type": "code",
   "execution_count": 142,
   "id": "a2fb7478",
   "metadata": {},
   "outputs": [
    {
     "name": "stdout",
     "output_type": "stream",
     "text": [
      "1.96812140700927\n"
     ]
    }
   ],
   "source": [
    "# The assumption is that there is no difference between spent time in april and may\n",
    "# Null hyp is that the diff = 0\n",
    "\n",
    "#checking t_critical at CI 95%\n",
    "t_critical = t.ppf((0.95/2)+0.5, df = april_count + may_count -2)\n",
    "print(t_critical)"
   ]
  },
  {
   "cell_type": "code",
   "execution_count": 143,
   "id": "2d33df0f",
   "metadata": {},
   "outputs": [
    {
     "data": {
      "text/plain": [
       "[-2.06338602563215, 5.290460855564129]"
      ]
     },
     "execution_count": 143,
     "metadata": {},
     "output_type": "execute_result"
    }
   ],
   "source": [
    "intervals = [ diff - t_critical*std_error , diff + t_critical*std_error]\n",
    "intervals\n",
    "# this is the difference between spent time in april and may that I'm confident 95% that I will find in the population"
   ]
  },
  {
   "cell_type": "code",
   "execution_count": 146,
   "id": "91fa3799",
   "metadata": {},
   "outputs": [
    {
     "name": "stdout",
     "output_type": "stream",
     "text": [
      "t_score  0.8636670245405954\n",
      "p_value  0.38847969263945714\n"
     ]
    }
   ],
   "source": [
    "t_score = diff/std_error\n",
    "p_value = ( 1 - t.cdf(t_score, df = april_count+may_count -2) )*2\n",
    "print('t_score ', t_score)\n",
    "print('p_value ', p_value)"
   ]
  },
  {
   "cell_type": "code",
   "execution_count": 138,
   "id": "38896026",
   "metadata": {},
   "outputs": [
    {
     "data": {
      "text/plain": [
       "Ttest_relResult(statistic=0.9059345312438, pvalue=0.36646315120526884)"
      ]
     },
     "execution_count": 138,
     "metadata": {},
     "output_type": "execute_result"
    }
   ],
   "source": [
    "from scipy.stats import ttest_rel\n",
    "ttest_rel(df[df['Month'] == 4]['Daily Time Spent on Site'], df[df['Month'] == 5]['Daily Time Spent on Site'])"
   ]
  },
  {
   "cell_type": "markdown",
   "id": "9bafa12a",
   "metadata": {},
   "source": [
    "## Chi-square goodness of fit\n",
    "### Create a new column that contain the month.\n",
    "### Check if all existing months are equally distributed.\n",
    "### Confirm using from scipy.stats.chisquare()"
   ]
  },
  {
   "cell_type": "code",
   "execution_count": 148,
   "id": "854945ff",
   "metadata": {},
   "outputs": [
    {
     "name": "stdout",
     "output_type": "stream",
     "text": [
      "<class 'pandas.core.frame.DataFrame'>\n",
      "RangeIndex: 1000 entries, 0 to 999\n",
      "Data columns (total 11 columns):\n",
      " #   Column                    Non-Null Count  Dtype  \n",
      "---  ------                    --------------  -----  \n",
      " 0   Daily Time Spent on Site  1000 non-null   float64\n",
      " 1   Age                       1000 non-null   int64  \n",
      " 2   Area Income               1000 non-null   float64\n",
      " 3   Daily Internet Usage      1000 non-null   float64\n",
      " 4   Ad Topic Line             1000 non-null   object \n",
      " 5   City                      1000 non-null   object \n",
      " 6   Male                      1000 non-null   int64  \n",
      " 7   Country                   1000 non-null   object \n",
      " 8   Timestamp                 1000 non-null   object \n",
      " 9   Clicked on Ad             1000 non-null   int64  \n",
      " 10  Month                     1000 non-null   int64  \n",
      "dtypes: float64(3), int64(4), object(4)\n",
      "memory usage: 86.1+ KB\n"
     ]
    }
   ],
   "source": [
    "df.info()"
   ]
  },
  {
   "cell_type": "code",
   "execution_count": 149,
   "id": "477c102c",
   "metadata": {},
   "outputs": [
    {
     "data": {
      "text/plain": [
       "2    160\n",
       "3    156\n",
       "4    147\n",
       "1    147\n",
       "5    147\n",
       "6    142\n",
       "7    101\n",
       "Name: Month, dtype: int64"
      ]
     },
     "execution_count": 149,
     "metadata": {},
     "output_type": "execute_result"
    }
   ],
   "source": [
    "df['Month'].value_counts()"
   ]
  },
  {
   "cell_type": "code",
   "execution_count": 150,
   "id": "bf88707a",
   "metadata": {},
   "outputs": [
    {
     "data": {
      "text/plain": [
       "<AxesSubplot: xlabel='Month', ylabel='count'>"
      ]
     },
     "execution_count": 150,
     "metadata": {},
     "output_type": "execute_result"
    },
    {
     "data": {
      "image/png": "[encoded data removed]",
      "text/plain": [
       "<Figure size 432x288 with 1 Axes>"
      ]
     },
     "metadata": {
      "needs_background": "light"
     },
     "output_type": "display_data"
    }
   ],
   "source": [
    "sns.countplot(x = df['Month'])"
   ]
  },
  {
   "cell_type": "code",
   "execution_count": 168,
   "id": "09410252",
   "metadata": {},
   "outputs": [
    {
     "data": {
      "text/plain": [
       "142.85714285714286"
      ]
     },
     "execution_count": 168,
     "metadata": {},
     "output_type": "execute_result"
    }
   ],
   "source": [
    "expected = df.shape[0]/df['Month'].nunique()\n",
    "expected"
   ]
  },
  {
   "cell_type": "code",
   "execution_count": 170,
   "id": "a2128cd8",
   "metadata": {},
   "outputs": [
    {
     "data": {
      "text/plain": [
       "array([160, 156, 147, 147, 147, 142, 101], dtype=int64)"
      ]
     },
     "execution_count": 170,
     "metadata": {},
     "output_type": "execute_result"
    }
   ],
   "source": [
    "values = df['Month'].value_counts().to_numpy()\n",
    "values"
   ]
  },
  {
   "cell_type": "code",
   "execution_count": 175,
   "id": "d4325fdb",
   "metadata": {},
   "outputs": [
    {
     "data": {
      "text/plain": [
       "15.896"
      ]
     },
     "execution_count": 175,
     "metadata": {},
     "output_type": "execute_result"
    }
   ],
   "source": [
    "chi_squared = [ np.square(values[i]-expected)/expected for i in range(values.shape[0])]\n",
    "chi_squared = sum(chi_squared)\n",
    "chi_squared"
   ]
  },
  {
   "cell_type": "code",
   "execution_count": 193,
   "id": "22af933e",
   "metadata": {},
   "outputs": [
    {
     "data": {
      "text/plain": [
       "12.591587243743977"
      ]
     },
     "execution_count": 193,
     "metadata": {},
     "output_type": "execute_result"
    }
   ],
   "source": [
    "chi2.ppf(0.95, df = 6)\n",
    "#critical chi square value"
   ]
  },
  {
   "cell_type": "code",
   "execution_count": 183,
   "id": "213b71c8",
   "metadata": {},
   "outputs": [
    {
     "name": "stdout",
     "output_type": "stream",
     "text": [
      "chi Square score :  15.896\n",
      "p_value:  0.01432319742349919\n"
     ]
    }
   ],
   "source": [
    "from scipy.stats import chi2\n",
    "p_value = 1-chi2.cdf(chi_squared , df = 6)\n",
    "print('chi Square score : ', chi_squared)\n",
    "print('p_value: ', p_value)\n",
    "# since chi square is larger than the critical value (p value is less than 0.05) then reject null hyp "
   ]
  },
  {
   "cell_type": "code",
   "execution_count": 160,
   "id": "3c9640f6",
   "metadata": {},
   "outputs": [
    {
     "data": {
      "text/plain": [
       "Power_divergenceResult(statistic=15.896, pvalue=0.01432319742349924)"
      ]
     },
     "execution_count": 160,
     "metadata": {},
     "output_type": "execute_result"
    }
   ],
   "source": [
    "from scipy.stats import chisquare\n",
    "chisquare(df['Month'].value_counts())"
   ]
  },
  {
   "cell_type": "markdown",
   "id": "97cf0ca3",
   "metadata": {},
   "source": [
    "## Chi-square test of independence\n",
    "### Check if there is a significant relation between \"Clicked on Ad\" and \"month\".\n",
    "### Use from scipy.stats.chi2_contingency() only.\n",
    "### Write your conclusion"
   ]
  },
  {
   "cell_type": "code",
   "execution_count": 189,
   "id": "a98131e5",
   "metadata": {},
   "outputs": [
    {
     "data": {
      "text/plain": [
       "<AxesSubplot: xlabel='Clicked on Ad', ylabel='count'>"
      ]
     },
     "execution_count": 189,
     "metadata": {},
     "output_type": "execute_result"
    },
    {
     "data": {
      "image/png": "[encoded data removed]",
      "text/plain": [
       "<Figure size 576x432 with 1 Axes>"
      ]
     },
     "metadata": {
      "needs_background": "light"
     },
     "output_type": "display_data"
    }
   ],
   "source": [
    "import matplotlib.pyplot as plt\n",
    "plt.figure(figsize = (8,6))\n",
    "sns.countplot(data = df, x = df['Clicked on Ad'], hue = df['Month'])"
   ]
  },
  {
   "cell_type": "code",
   "execution_count": 209,
   "id": "f7d8e173",
   "metadata": {},
   "outputs": [],
   "source": [
    "data = df.groupby(['Month','Clicked on Ad']).size().unstack(fill_value = 0)"
   ]
  },
  {
   "cell_type": "code",
   "execution_count": 210,
   "id": "2da220b9",
   "metadata": {},
   "outputs": [
    {
     "data": {
      "text/html": [
       "<div>\n",
       "<style scoped>\n",
       "    .dataframe tbody tr th:only-of-type {\n",
       "        vertical-align: middle;\n",
       "    }\n",
       "\n",
       "    .dataframe tbody tr th {\n",
       "        vertical-align: top;\n",
       "    }\n",
       "\n",
       "    .dataframe thead th {\n",
       "        text-align: right;\n",
       "    }\n",
       "</style>\n",
       "<table border=\"1\" class=\"dataframe\">\n",
       "  <thead>\n",
       "    <tr style=\"text-align: right;\">\n",
       "      <th>Clicked on Ad</th>\n",
       "      <th>0</th>\n",
       "      <th>1</th>\n",
       "    </tr>\n",
       "    <tr>\n",
       "      <th>Month</th>\n",
       "      <th></th>\n",
       "      <th></th>\n",
       "    </tr>\n",
       "  </thead>\n",
       "  <tbody>\n",
       "    <tr>\n",
       "      <th>1</th>\n",
       "      <td>78</td>\n",
       "      <td>69</td>\n",
       "    </tr>\n",
       "    <tr>\n",
       "      <th>2</th>\n",
       "      <td>77</td>\n",
       "      <td>83</td>\n",
       "    </tr>\n",
       "    <tr>\n",
       "      <th>3</th>\n",
       "      <td>82</td>\n",
       "      <td>74</td>\n",
       "    </tr>\n",
       "    <tr>\n",
       "      <th>4</th>\n",
       "      <td>73</td>\n",
       "      <td>74</td>\n",
       "    </tr>\n",
       "    <tr>\n",
       "      <th>5</th>\n",
       "      <td>68</td>\n",
       "      <td>79</td>\n",
       "    </tr>\n",
       "    <tr>\n",
       "      <th>6</th>\n",
       "      <td>71</td>\n",
       "      <td>71</td>\n",
       "    </tr>\n",
       "    <tr>\n",
       "      <th>7</th>\n",
       "      <td>51</td>\n",
       "      <td>50</td>\n",
       "    </tr>\n",
       "  </tbody>\n",
       "</table>\n",
       "</div>"
      ],
      "text/plain": [
       "Clicked on Ad   0   1\n",
       "Month                \n",
       "1              78  69\n",
       "2              77  83\n",
       "3              82  74\n",
       "4              73  74\n",
       "5              68  79\n",
       "6              71  71\n",
       "7              51  50"
      ]
     },
     "execution_count": 210,
     "metadata": {},
     "output_type": "execute_result"
    }
   ],
   "source": [
    "data.head(20)"
   ]
  },
  {
   "cell_type": "code",
   "execution_count": 219,
   "id": "6180a461",
   "metadata": {},
   "outputs": [
    {
     "data": {
      "text/plain": [
       "<AxesSubplot: xlabel='Clicked on Ad', ylabel='Month'>"
      ]
     },
     "execution_count": 219,
     "metadata": {},
     "output_type": "execute_result"
    },
    {
     "data": {
      "image/png": "[encoded data removed]",
      "text/plain": [
       "<Figure size 864x720 with 2 Axes>"
      ]
     },
     "metadata": {
      "needs_background": "light"
     },
     "output_type": "display_data"
    }
   ],
   "source": [
    "plt.figure(figsize = (12,10))\n",
    "sns.heatmap(data = data,annot = True)"
   ]
  },
  {
   "cell_type": "code",
   "execution_count": 220,
   "id": "7bc5d955",
   "metadata": {},
   "outputs": [],
   "source": [
    "from scipy.stats import chi2_contingency\n",
    "chi , p_value , dof, exp = chi2_contingency(data)"
   ]
  },
  {
   "cell_type": "code",
   "execution_count": 222,
   "id": "ec5ae54e",
   "metadata": {},
   "outputs": [
    {
     "name": "stdout",
     "output_type": "stream",
     "text": [
      "Chi squared value:  2.026109781307801\n",
      "p value:  0.9172816839796131\n",
      "degree of freedom:  6\n",
      "Expected values: \n",
      "[[73.5 73.5]\n",
      " [80.  80. ]\n",
      " [78.  78. ]\n",
      " [73.5 73.5]\n",
      " [73.5 73.5]\n",
      " [71.  71. ]\n",
      " [50.5 50.5]]\n"
     ]
    }
   ],
   "source": [
    "print('Chi squared value: ', chi)\n",
    "print('p value: ', p_value)\n",
    "print('degree of freedom: ', dof)\n",
    "print('Expected values: ')\n",
    "print( exp)"
   ]
  },
  {
   "cell_type": "markdown",
   "id": "74be4e3e",
   "metadata": {},
   "source": [
    "## ANOVA\n",
    "### Create a new column that identifies age groups (young,adult,old).\n",
    "### Check if the age group affects the Daily Time Spent on Site.\n",
    "### Use only scipy.stats.f_oneway()\n",
    "### Write your conclusion."
   ]
  },
  {
   "cell_type": "code",
   "execution_count": 237,
   "id": "154c380c",
   "metadata": {},
   "outputs": [
    {
     "name": "stdout",
     "output_type": "stream",
     "text": [
      "19\n",
      "33.0\n",
      "47.0\n",
      "61.0\n"
     ]
    }
   ],
   "source": [
    "step = (df['Age'].max()-df['Age'].min())/3\n",
    "val = df['Age'].min()\n",
    "for i in range(4):\n",
    "    print(val)\n",
    "    val += step"
   ]
  },
  {
   "cell_type": "code",
   "execution_count": 238,
   "id": "5a8ea258",
   "metadata": {},
   "outputs": [],
   "source": [
    "ranges = {'young': [19,33], 'adult':[34,47], 'old':[48,62] }"
   ]
  },
  {
   "cell_type": "code",
   "execution_count": 261,
   "id": "ef171c66",
   "metadata": {},
   "outputs": [],
   "source": [
    "def is_between(num, lower, upper):\n",
    "    return num >= lower and num <= upper"
   ]
  },
  {
   "cell_type": "code",
   "execution_count": 265,
   "id": "941bc85a",
   "metadata": {},
   "outputs": [
    {
     "data": {
      "text/plain": [
       "0    adult\n",
       "1    young\n",
       "2    young\n",
       "3    young\n",
       "4    adult\n",
       "Name: Age_groups, dtype: object"
      ]
     },
     "execution_count": 265,
     "metadata": {},
     "output_type": "execute_result"
    }
   ],
   "source": [
    "df['Age_groups'] = df['Age'].apply(lambda x: [group for group in ranges.keys() if is_between(x,*ranges[group])][0] )\n",
    "df['Age_groups'].head()"
   ]
  },
  {
   "cell_type": "code",
   "execution_count": 267,
   "id": "e3537810",
   "metadata": {},
   "outputs": [
    {
     "data": {
      "text/plain": [
       "<AxesSubplot: xlabel='Daily Time Spent on Site', ylabel='Count'>"
      ]
     },
     "execution_count": 267,
     "metadata": {},
     "output_type": "execute_result"
    },
    {
     "data": {
      "image/png": "[encoded data removed]",
      "text/plain": [
       "<Figure size 432x288 with 1 Axes>"
      ]
     },
     "metadata": {
      "needs_background": "light"
     },
     "output_type": "display_data"
    }
   ],
   "source": [
    "sns.histplot(data = df, x = df['Daily Time Spent on Site'])"
   ]
  },
  {
   "cell_type": "code",
   "execution_count": 268,
   "id": "041075fc",
   "metadata": {},
   "outputs": [
    {
     "data": {
      "text/plain": [
       "<AxesSubplot: xlabel='Age', ylabel='Count'>"
      ]
     },
     "execution_count": 268,
     "metadata": {},
     "output_type": "execute_result"
    },
    {
     "data": {
      "image/png": "[encoded data removed]",
      "text/plain": [
       "<Figure size 432x288 with 1 Axes>"
      ]
     },
     "metadata": {
      "needs_background": "light"
     },
     "output_type": "display_data"
    }
   ],
   "source": [
    "sns.histplot(data = df, x = df['Age'])"
   ]
  },
  {
   "cell_type": "code",
   "execution_count": 271,
   "id": "cb9a4a89",
   "metadata": {},
   "outputs": [
    {
     "data": {
      "text/plain": [
       "<AxesSubplot: xlabel='Age', ylabel='count'>"
      ]
     },
     "execution_count": 271,
     "metadata": {},
     "output_type": "execute_result"
    },
    {
     "data": {
      "image/png": "[encoded data removed]",
      "text/plain": [
       "<Figure size 1152x432 with 1 Axes>"
      ]
     },
     "metadata": {
      "needs_background": "light"
     },
     "output_type": "display_data"
    }
   ],
   "source": [
    "plt.figure(figsize = (16,6))\n",
    "sns.countplot(x = df['Age'])"
   ]
  },
  {
   "cell_type": "code",
   "execution_count": 272,
   "id": "b19f8be4",
   "metadata": {},
   "outputs": [
    {
     "data": {
      "text/plain": [
       "young    444\n",
       "adult    430\n",
       "old      126\n",
       "Name: Age_groups, dtype: int64"
      ]
     },
     "execution_count": 272,
     "metadata": {},
     "output_type": "execute_result"
    }
   ],
   "source": [
    "df['Age_groups'].value_counts()"
   ]
  },
  {
   "cell_type": "code",
   "execution_count": 273,
   "id": "b3f7b5b7",
   "metadata": {},
   "outputs": [
    {
     "data": {
      "text/plain": [
       "<AxesSubplot: xlabel='Age_groups', ylabel='count'>"
      ]
     },
     "execution_count": 273,
     "metadata": {},
     "output_type": "execute_result"
    },
    {
     "data": {
      "image/png": "[encoded data removed]",
      "text/plain": [
       "<Figure size 432x288 with 1 Axes>"
      ]
     },
     "metadata": {
      "needs_background": "light"
     },
     "output_type": "display_data"
    }
   ],
   "source": [
    "sns.countplot(x = df['Age_groups'])"
   ]
  },
  {
   "cell_type": "code",
   "execution_count": 280,
   "id": "4badedb5",
   "metadata": {},
   "outputs": [
    {
     "data": {
      "text/plain": [
       "<AxesSubplot: xlabel='Age_groups', ylabel='Daily Time Spent on Site'>"
      ]
     },
     "execution_count": 280,
     "metadata": {},
     "output_type": "execute_result"
    },
    {
     "data": {
      "image/png": "[encoded data removed]",
      "text/plain": [
       "<Figure size 864x432 with 1 Axes>"
      ]
     },
     "metadata": {
      "needs_background": "light"
     },
     "output_type": "display_data"
    }
   ],
   "source": [
    "plt.figure(figsize = (12,6))\n",
    "sns.barplot(data = df, x = df['Age_groups'] , y = df['Daily Time Spent on Site'])"
   ]
  },
  {
   "cell_type": "code",
   "execution_count": 288,
   "id": "d53219db",
   "metadata": {},
   "outputs": [
    {
     "data": {
      "text/plain": [
       "<AxesSubplot: xlabel='Age_groups', ylabel='Daily Time Spent on Site'>"
      ]
     },
     "execution_count": 288,
     "metadata": {},
     "output_type": "execute_result"
    },
    {
     "data": {
      "image/png": "[encoded data removed]",
      "text/plain": [
       "<Figure size 432x288 with 1 Axes>"
      ]
     },
     "metadata": {
      "needs_background": "light"
     },
     "output_type": "display_data"
    }
   ],
   "source": [
    "sns.boxplot(data = df, x = 'Age_groups', y = 'Daily Time Spent on Site')"
   ]
  },
  {
   "cell_type": "code",
   "execution_count": 290,
   "id": "2a1c93c9",
   "metadata": {},
   "outputs": [
    {
     "data": {
      "text/plain": [
       "<AxesSubplot: xlabel='Age_groups', ylabel='Daily Time Spent on Site'>"
      ]
     },
     "execution_count": 290,
     "metadata": {},
     "output_type": "execute_result"
    },
    {
     "data": {
      "image/png": "[encoded data removed]",
      "text/plain": [
       "<Figure size 432x288 with 1 Axes>"
      ]
     },
     "metadata": {
      "needs_background": "light"
     },
     "output_type": "display_data"
    }
   ],
   "source": [
    "sns.violinplot(data = df, x = 'Age_groups', y = 'Daily Time Spent on Site')"
   ]
  },
  {
   "cell_type": "code",
   "execution_count": 291,
   "id": "4ed83db4",
   "metadata": {},
   "outputs": [
    {
     "data": {
      "text/plain": [
       "<seaborn.axisgrid.FacetGrid at 0x17a9f987dc0>"
      ]
     },
     "execution_count": 291,
     "metadata": {},
     "output_type": "execute_result"
    },
    {
     "data": {
      "image/png": "[encoded data removed]",
      "text/plain": [
       "<Figure size 360x360 with 1 Axes>"
      ]
     },
     "metadata": {
      "needs_background": "light"
     },
     "output_type": "display_data"
    }
   ],
   "source": [
    "sns.catplot(data = df, x = 'Age_groups', y = 'Daily Time Spent on Site')"
   ]
  },
  {
   "cell_type": "code",
   "execution_count": 298,
   "id": "4bb4cea3",
   "metadata": {},
   "outputs": [],
   "source": [
    "young_df = df[df['Age_groups'] == 'young']\n",
    "adult_df = df[df['Age_groups'] == 'adult']\n",
    "old_df = df[df['Age_groups'] == 'old']\n",
    "dataframes = [young_df, adult_df, old_df]\n",
    "samples = []\n",
    "for i in dataframes:\n",
    "    samples.append(i['Daily Time Spent on Site'])\n"
   ]
  },
  {
   "cell_type": "code",
   "execution_count": 300,
   "id": "cf66be5c",
   "metadata": {},
   "outputs": [],
   "source": [
    "from scipy.stats import f_oneway\n",
    "f_score , p_value = f_oneway(*samples)"
   ]
  },
  {
   "cell_type": "code",
   "execution_count": 301,
   "id": "f93dc12d",
   "metadata": {},
   "outputs": [
    {
     "name": "stdout",
     "output_type": "stream",
     "text": [
      "F_score:  59.26824116449695\n",
      "P_value:  4.77389772073441e-25\n"
     ]
    }
   ],
   "source": [
    "print('F_score: ', f_score)\n",
    "print('P_value: ', p_value)\n",
    "# f_score is high and p value is low this means that the variance in the data is due to the difference in means of the groups\n",
    "# thus each group has certain range of values for Daily Time Spent on Site\n",
    "# so each group affects the spent time "
   ]
  }
 ],
 "metadata": {
  "kernelspec": {
   "display_name": "Python 3 (ipykernel)",
   "language": "python",
   "name": "python3"
  },
  "language_info": {
   "codemirror_mode": {
    "name": "ipython",
    "version": 3
   },
   "file_extension": ".py",
   "mimetype": "text/x-python",
   "name": "python",
   "nbconvert_exporter": "python",
   "pygments_lexer": "ipython3",
   "version": "3.10.7"
  }
 },
 "nbformat": 4,
 "nbformat_minor": 5
}
