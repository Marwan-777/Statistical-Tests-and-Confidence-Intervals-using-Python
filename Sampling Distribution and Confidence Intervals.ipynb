{
 "cells": [
  {
   "cell_type": "markdown",
   "id": "6e8f6e57",
   "metadata": {},
   "source": [
    "## Sampling\n",
    "#### Read employees.csv file.\n",
    "#### Display column counts.\n",
    "#### Remove any row contains null and display column counts"
   ]
  },
  {
   "cell_type": "code",
   "execution_count": 14,
   "id": "3f16bc57",
   "metadata": {},
   "outputs": [
    {
     "data": {
      "text/plain": [
       "First Name            933\n",
       "Gender                855\n",
       "Start Date           1000\n",
       "Last Login Time      1000\n",
       "Salary               1000\n",
       "Bonus %              1000\n",
       "Senior Management     933\n",
       "Team                  957\n",
       "dtype: int64"
      ]
     },
     "execution_count": 14,
     "metadata": {},
     "output_type": "execute_result"
    }
   ],
   "source": [
    "import pandas as pd\n",
    "\n",
    "df = pd.read_csv('employees.csv')\n",
    "df.count()"
   ]
  },
  {
   "cell_type": "code",
   "execution_count": 15,
   "id": "f79267a0",
   "metadata": {},
   "outputs": [
    {
     "data": {
      "text/plain": [
       "First Name           764\n",
       "Gender               764\n",
       "Start Date           764\n",
       "Last Login Time      764\n",
       "Salary               764\n",
       "Bonus %              764\n",
       "Senior Management    764\n",
       "Team                 764\n",
       "dtype: int64"
      ]
     },
     "execution_count": 15,
     "metadata": {},
     "output_type": "execute_result"
    }
   ],
   "source": [
    "df.dropna(inplace = True)\n",
    "df.count()"
   ]
  },
  {
   "cell_type": "markdown",
   "id": "e4b73c7a",
   "metadata": {},
   "source": [
    "## Simple Random Sample (SRS)\n",
    "#### Select simple random sample of size=50.\n",
    "#### Select 50% SRS.\n",
    "#### Display column counts in both cases."
   ]
  },
  {
   "cell_type": "code",
   "execution_count": 16,
   "id": "24234482",
   "metadata": {},
   "outputs": [
    {
     "data": {
      "text/plain": [
       "First Name           50\n",
       "Gender               50\n",
       "Start Date           50\n",
       "Last Login Time      50\n",
       "Salary               50\n",
       "Bonus %              50\n",
       "Senior Management    50\n",
       "Team                 50\n",
       "dtype: int64"
      ]
     },
     "execution_count": 16,
     "metadata": {},
     "output_type": "execute_result"
    }
   ],
   "source": [
    "import random\n",
    "\n",
    "SRS = df.sample(50)\n",
    "SRS.count()"
   ]
  },
  {
   "cell_type": "code",
   "execution_count": 17,
   "id": "3a74c2fa",
   "metadata": {},
   "outputs": [
    {
     "data": {
      "text/plain": [
       "First Name           382\n",
       "Gender               382\n",
       "Start Date           382\n",
       "Last Login Time      382\n",
       "Salary               382\n",
       "Bonus %              382\n",
       "Senior Management    382\n",
       "Team                 382\n",
       "dtype: int64"
      ]
     },
     "execution_count": 17,
     "metadata": {},
     "output_type": "execute_result"
    }
   ],
   "source": [
    "sample = df.sample( round(df.shape[0]*0.5))\n",
    "sample.count()"
   ]
  },
  {
   "cell_type": "markdown",
   "id": "18234c8a",
   "metadata": {},
   "source": [
    "## Systematic Sampling\n",
    "#### Select a systematic sample with 25, 50, and 100 intervals."
   ]
  },
  {
   "cell_type": "code",
   "execution_count": 18,
   "id": "34d65bc9",
   "metadata": {},
   "outputs": [],
   "source": [
    "df.reset_index(inplace = True, drop = True)"
   ]
  },
  {
   "cell_type": "code",
   "execution_count": 19,
   "id": "8a4d10e4",
   "metadata": {},
   "outputs": [],
   "source": [
    "def systematicSampling(dataframe, interval):\n",
    "    size = dataframe.shape[0]\n",
    "    indexes = [i for i in range(0,size,interval)]\n",
    "    return dataframe.iloc[indexes]"
   ]
  },
  {
   "cell_type": "code",
   "execution_count": 20,
   "id": "8b517701",
   "metadata": {},
   "outputs": [
    {
     "data": {
      "text/html": [
       "<div>\n",
       "<style scoped>\n",
       "    .dataframe tbody tr th:only-of-type {\n",
       "        vertical-align: middle;\n",
       "    }\n",
       "\n",
       "    .dataframe tbody tr th {\n",
       "        vertical-align: top;\n",
       "    }\n",
       "\n",
       "    .dataframe thead th {\n",
       "        text-align: right;\n",
       "    }\n",
       "</style>\n",
       "<table border=\"1\" class=\"dataframe\">\n",
       "  <thead>\n",
       "    <tr style=\"text-align: right;\">\n",
       "      <th></th>\n",
       "      <th>First Name</th>\n",
       "      <th>Gender</th>\n",
       "      <th>Start Date</th>\n",
       "      <th>Last Login Time</th>\n",
       "      <th>Salary</th>\n",
       "      <th>Bonus %</th>\n",
       "      <th>Senior Management</th>\n",
       "      <th>Team</th>\n",
       "    </tr>\n",
       "  </thead>\n",
       "  <tbody>\n",
       "    <tr>\n",
       "      <th>0</th>\n",
       "      <td>Douglas</td>\n",
       "      <td>Male</td>\n",
       "      <td>8/6/1993</td>\n",
       "      <td>12:42 PM</td>\n",
       "      <td>97308</td>\n",
       "      <td>6.945</td>\n",
       "      <td>True</td>\n",
       "      <td>Marketing</td>\n",
       "    </tr>\n",
       "    <tr>\n",
       "      <th>25</th>\n",
       "      <td>Theresa</td>\n",
       "      <td>Female</td>\n",
       "      <td>10/10/2006</td>\n",
       "      <td>1:12 AM</td>\n",
       "      <td>85182</td>\n",
       "      <td>16.675</td>\n",
       "      <td>False</td>\n",
       "      <td>Sales</td>\n",
       "    </tr>\n",
       "    <tr>\n",
       "      <th>50</th>\n",
       "      <td>Jose</td>\n",
       "      <td>Male</td>\n",
       "      <td>10/30/2004</td>\n",
       "      <td>1:39 PM</td>\n",
       "      <td>84834</td>\n",
       "      <td>14.330</td>\n",
       "      <td>True</td>\n",
       "      <td>Finance</td>\n",
       "    </tr>\n",
       "    <tr>\n",
       "      <th>75</th>\n",
       "      <td>Aaron</td>\n",
       "      <td>Male</td>\n",
       "      <td>2/17/2012</td>\n",
       "      <td>10:20 AM</td>\n",
       "      <td>61602</td>\n",
       "      <td>11.849</td>\n",
       "      <td>True</td>\n",
       "      <td>Marketing</td>\n",
       "    </tr>\n",
       "    <tr>\n",
       "      <th>100</th>\n",
       "      <td>Shirley</td>\n",
       "      <td>Female</td>\n",
       "      <td>5/1/1984</td>\n",
       "      <td>1:15 PM</td>\n",
       "      <td>41334</td>\n",
       "      <td>6.219</td>\n",
       "      <td>True</td>\n",
       "      <td>Human Resources</td>\n",
       "    </tr>\n",
       "  </tbody>\n",
       "</table>\n",
       "</div>"
      ],
      "text/plain": [
       "    First Name  Gender  Start Date Last Login Time  Salary  Bonus %  \\\n",
       "0      Douglas    Male    8/6/1993        12:42 PM   97308    6.945   \n",
       "25     Theresa  Female  10/10/2006         1:12 AM   85182   16.675   \n",
       "50        Jose    Male  10/30/2004         1:39 PM   84834   14.330   \n",
       "75       Aaron    Male   2/17/2012        10:20 AM   61602   11.849   \n",
       "100    Shirley  Female    5/1/1984         1:15 PM   41334    6.219   \n",
       "\n",
       "    Senior Management             Team  \n",
       "0                True        Marketing  \n",
       "25              False            Sales  \n",
       "50               True          Finance  \n",
       "75               True        Marketing  \n",
       "100              True  Human Resources  "
      ]
     },
     "execution_count": 20,
     "metadata": {},
     "output_type": "execute_result"
    }
   ],
   "source": [
    "sample = systematicSampling(df,25)\n",
    "sample.head()"
   ]
  },
  {
   "cell_type": "code",
   "execution_count": 21,
   "id": "514c1a7f",
   "metadata": {},
   "outputs": [
    {
     "data": {
      "text/html": [
       "<div>\n",
       "<style scoped>\n",
       "    .dataframe tbody tr th:only-of-type {\n",
       "        vertical-align: middle;\n",
       "    }\n",
       "\n",
       "    .dataframe tbody tr th {\n",
       "        vertical-align: top;\n",
       "    }\n",
       "\n",
       "    .dataframe thead th {\n",
       "        text-align: right;\n",
       "    }\n",
       "</style>\n",
       "<table border=\"1\" class=\"dataframe\">\n",
       "  <thead>\n",
       "    <tr style=\"text-align: right;\">\n",
       "      <th></th>\n",
       "      <th>First Name</th>\n",
       "      <th>Gender</th>\n",
       "      <th>Start Date</th>\n",
       "      <th>Last Login Time</th>\n",
       "      <th>Salary</th>\n",
       "      <th>Bonus %</th>\n",
       "      <th>Senior Management</th>\n",
       "      <th>Team</th>\n",
       "    </tr>\n",
       "  </thead>\n",
       "  <tbody>\n",
       "    <tr>\n",
       "      <th>0</th>\n",
       "      <td>Douglas</td>\n",
       "      <td>Male</td>\n",
       "      <td>8/6/1993</td>\n",
       "      <td>12:42 PM</td>\n",
       "      <td>97308</td>\n",
       "      <td>6.945</td>\n",
       "      <td>True</td>\n",
       "      <td>Marketing</td>\n",
       "    </tr>\n",
       "    <tr>\n",
       "      <th>50</th>\n",
       "      <td>Jose</td>\n",
       "      <td>Male</td>\n",
       "      <td>10/30/2004</td>\n",
       "      <td>1:39 PM</td>\n",
       "      <td>84834</td>\n",
       "      <td>14.330</td>\n",
       "      <td>True</td>\n",
       "      <td>Finance</td>\n",
       "    </tr>\n",
       "    <tr>\n",
       "      <th>100</th>\n",
       "      <td>Shirley</td>\n",
       "      <td>Female</td>\n",
       "      <td>5/1/1984</td>\n",
       "      <td>1:15 PM</td>\n",
       "      <td>41334</td>\n",
       "      <td>6.219</td>\n",
       "      <td>True</td>\n",
       "      <td>Human Resources</td>\n",
       "    </tr>\n",
       "    <tr>\n",
       "      <th>150</th>\n",
       "      <td>Carolyn</td>\n",
       "      <td>Female</td>\n",
       "      <td>11/6/2012</td>\n",
       "      <td>3:51 AM</td>\n",
       "      <td>69268</td>\n",
       "      <td>3.031</td>\n",
       "      <td>False</td>\n",
       "      <td>Client Services</td>\n",
       "    </tr>\n",
       "    <tr>\n",
       "      <th>200</th>\n",
       "      <td>Gloria</td>\n",
       "      <td>Female</td>\n",
       "      <td>3/27/2007</td>\n",
       "      <td>1:44 AM</td>\n",
       "      <td>90730</td>\n",
       "      <td>2.491</td>\n",
       "      <td>False</td>\n",
       "      <td>Distribution</td>\n",
       "    </tr>\n",
       "  </tbody>\n",
       "</table>\n",
       "</div>"
      ],
      "text/plain": [
       "    First Name  Gender  Start Date Last Login Time  Salary  Bonus %  \\\n",
       "0      Douglas    Male    8/6/1993        12:42 PM   97308    6.945   \n",
       "50        Jose    Male  10/30/2004         1:39 PM   84834   14.330   \n",
       "100    Shirley  Female    5/1/1984         1:15 PM   41334    6.219   \n",
       "150    Carolyn  Female   11/6/2012         3:51 AM   69268    3.031   \n",
       "200     Gloria  Female   3/27/2007         1:44 AM   90730    2.491   \n",
       "\n",
       "    Senior Management             Team  \n",
       "0                True        Marketing  \n",
       "50               True          Finance  \n",
       "100              True  Human Resources  \n",
       "150             False  Client Services  \n",
       "200             False     Distribution  "
      ]
     },
     "execution_count": 21,
     "metadata": {},
     "output_type": "execute_result"
    }
   ],
   "source": [
    "sample = systematicSampling(df,50)\n",
    "sample.head()"
   ]
  },
  {
   "cell_type": "code",
   "execution_count": 22,
   "id": "54356653",
   "metadata": {},
   "outputs": [
    {
     "data": {
      "text/html": [
       "<div>\n",
       "<style scoped>\n",
       "    .dataframe tbody tr th:only-of-type {\n",
       "        vertical-align: middle;\n",
       "    }\n",
       "\n",
       "    .dataframe tbody tr th {\n",
       "        vertical-align: top;\n",
       "    }\n",
       "\n",
       "    .dataframe thead th {\n",
       "        text-align: right;\n",
       "    }\n",
       "</style>\n",
       "<table border=\"1\" class=\"dataframe\">\n",
       "  <thead>\n",
       "    <tr style=\"text-align: right;\">\n",
       "      <th></th>\n",
       "      <th>First Name</th>\n",
       "      <th>Gender</th>\n",
       "      <th>Start Date</th>\n",
       "      <th>Last Login Time</th>\n",
       "      <th>Salary</th>\n",
       "      <th>Bonus %</th>\n",
       "      <th>Senior Management</th>\n",
       "      <th>Team</th>\n",
       "    </tr>\n",
       "  </thead>\n",
       "  <tbody>\n",
       "    <tr>\n",
       "      <th>0</th>\n",
       "      <td>Douglas</td>\n",
       "      <td>Male</td>\n",
       "      <td>8/6/1993</td>\n",
       "      <td>12:42 PM</td>\n",
       "      <td>97308</td>\n",
       "      <td>6.945</td>\n",
       "      <td>True</td>\n",
       "      <td>Marketing</td>\n",
       "    </tr>\n",
       "    <tr>\n",
       "      <th>100</th>\n",
       "      <td>Shirley</td>\n",
       "      <td>Female</td>\n",
       "      <td>5/1/1984</td>\n",
       "      <td>1:15 PM</td>\n",
       "      <td>41334</td>\n",
       "      <td>6.219</td>\n",
       "      <td>True</td>\n",
       "      <td>Human Resources</td>\n",
       "    </tr>\n",
       "    <tr>\n",
       "      <th>200</th>\n",
       "      <td>Gloria</td>\n",
       "      <td>Female</td>\n",
       "      <td>3/27/2007</td>\n",
       "      <td>1:44 AM</td>\n",
       "      <td>90730</td>\n",
       "      <td>2.491</td>\n",
       "      <td>False</td>\n",
       "      <td>Distribution</td>\n",
       "    </tr>\n",
       "    <tr>\n",
       "      <th>300</th>\n",
       "      <td>Marilyn</td>\n",
       "      <td>Female</td>\n",
       "      <td>8/15/1989</td>\n",
       "      <td>9:14 AM</td>\n",
       "      <td>140502</td>\n",
       "      <td>9.989</td>\n",
       "      <td>True</td>\n",
       "      <td>Sales</td>\n",
       "    </tr>\n",
       "    <tr>\n",
       "      <th>400</th>\n",
       "      <td>Catherine</td>\n",
       "      <td>Female</td>\n",
       "      <td>8/31/2013</td>\n",
       "      <td>7:24 PM</td>\n",
       "      <td>58047</td>\n",
       "      <td>14.858</td>\n",
       "      <td>True</td>\n",
       "      <td>Distribution</td>\n",
       "    </tr>\n",
       "  </tbody>\n",
       "</table>\n",
       "</div>"
      ],
      "text/plain": [
       "    First Name  Gender Start Date Last Login Time  Salary  Bonus %  \\\n",
       "0      Douglas    Male   8/6/1993        12:42 PM   97308    6.945   \n",
       "100    Shirley  Female   5/1/1984         1:15 PM   41334    6.219   \n",
       "200     Gloria  Female  3/27/2007         1:44 AM   90730    2.491   \n",
       "300    Marilyn  Female  8/15/1989         9:14 AM  140502    9.989   \n",
       "400  Catherine  Female  8/31/2013         7:24 PM   58047   14.858   \n",
       "\n",
       "    Senior Management             Team  \n",
       "0                True        Marketing  \n",
       "100              True  Human Resources  \n",
       "200             False     Distribution  \n",
       "300              True            Sales  \n",
       "400              True     Distribution  "
      ]
     },
     "execution_count": 22,
     "metadata": {},
     "output_type": "execute_result"
    }
   ],
   "source": [
    "sample = systematicSampling(df,100)\n",
    "sample.head()"
   ]
  },
  {
   "cell_type": "markdown",
   "id": "af1a3ba5",
   "metadata": {},
   "source": [
    "## Stratified Sampling\n",
    "#### Perform a countplot and pieplot for Gender column.\n",
    "#### Select 20% startified sample from data based on Gender.\n",
    "#### Perform a countplot and pieplot for Gender column for the data sample."
   ]
  },
  {
   "cell_type": "code",
   "execution_count": 23,
   "id": "d33c1325",
   "metadata": {},
   "outputs": [
    {
     "data": {
      "text/html": [
       "<div>\n",
       "<style scoped>\n",
       "    .dataframe tbody tr th:only-of-type {\n",
       "        vertical-align: middle;\n",
       "    }\n",
       "\n",
       "    .dataframe tbody tr th {\n",
       "        vertical-align: top;\n",
       "    }\n",
       "\n",
       "    .dataframe thead th {\n",
       "        text-align: right;\n",
       "    }\n",
       "</style>\n",
       "<table border=\"1\" class=\"dataframe\">\n",
       "  <thead>\n",
       "    <tr style=\"text-align: right;\">\n",
       "      <th></th>\n",
       "      <th>First Name</th>\n",
       "      <th>Gender</th>\n",
       "      <th>Start Date</th>\n",
       "      <th>Last Login Time</th>\n",
       "      <th>Salary</th>\n",
       "      <th>Bonus %</th>\n",
       "      <th>Senior Management</th>\n",
       "      <th>Team</th>\n",
       "    </tr>\n",
       "  </thead>\n",
       "  <tbody>\n",
       "    <tr>\n",
       "      <th>0</th>\n",
       "      <td>Douglas</td>\n",
       "      <td>Male</td>\n",
       "      <td>8/6/1993</td>\n",
       "      <td>12:42 PM</td>\n",
       "      <td>97308</td>\n",
       "      <td>6.945</td>\n",
       "      <td>True</td>\n",
       "      <td>Marketing</td>\n",
       "    </tr>\n",
       "    <tr>\n",
       "      <th>1</th>\n",
       "      <td>Maria</td>\n",
       "      <td>Female</td>\n",
       "      <td>4/23/1993</td>\n",
       "      <td>11:17 AM</td>\n",
       "      <td>130590</td>\n",
       "      <td>11.858</td>\n",
       "      <td>False</td>\n",
       "      <td>Finance</td>\n",
       "    </tr>\n",
       "    <tr>\n",
       "      <th>2</th>\n",
       "      <td>Jerry</td>\n",
       "      <td>Male</td>\n",
       "      <td>3/4/2005</td>\n",
       "      <td>1:00 PM</td>\n",
       "      <td>138705</td>\n",
       "      <td>9.340</td>\n",
       "      <td>True</td>\n",
       "      <td>Finance</td>\n",
       "    </tr>\n",
       "    <tr>\n",
       "      <th>3</th>\n",
       "      <td>Larry</td>\n",
       "      <td>Male</td>\n",
       "      <td>1/24/1998</td>\n",
       "      <td>4:47 PM</td>\n",
       "      <td>101004</td>\n",
       "      <td>1.389</td>\n",
       "      <td>True</td>\n",
       "      <td>Client Services</td>\n",
       "    </tr>\n",
       "    <tr>\n",
       "      <th>4</th>\n",
       "      <td>Dennis</td>\n",
       "      <td>Male</td>\n",
       "      <td>4/18/1987</td>\n",
       "      <td>1:35 AM</td>\n",
       "      <td>115163</td>\n",
       "      <td>10.125</td>\n",
       "      <td>False</td>\n",
       "      <td>Legal</td>\n",
       "    </tr>\n",
       "  </tbody>\n",
       "</table>\n",
       "</div>"
      ],
      "text/plain": [
       "  First Name  Gender Start Date Last Login Time  Salary  Bonus %  \\\n",
       "0    Douglas    Male   8/6/1993        12:42 PM   97308    6.945   \n",
       "1      Maria  Female  4/23/1993        11:17 AM  130590   11.858   \n",
       "2      Jerry    Male   3/4/2005         1:00 PM  138705    9.340   \n",
       "3      Larry    Male  1/24/1998         4:47 PM  101004    1.389   \n",
       "4     Dennis    Male  4/18/1987         1:35 AM  115163   10.125   \n",
       "\n",
       "  Senior Management             Team  \n",
       "0              True        Marketing  \n",
       "1             False          Finance  \n",
       "2              True          Finance  \n",
       "3              True  Client Services  \n",
       "4             False            Legal  "
      ]
     },
     "execution_count": 23,
     "metadata": {},
     "output_type": "execute_result"
    }
   ],
   "source": [
    "df.head()"
   ]
  },
  {
   "cell_type": "code",
   "execution_count": 11,
   "id": "64575d7e",
   "metadata": {},
   "outputs": [
    {
     "data": {
      "text/html": [
       "<div>\n",
       "<style scoped>\n",
       "    .dataframe tbody tr th:only-of-type {\n",
       "        vertical-align: middle;\n",
       "    }\n",
       "\n",
       "    .dataframe tbody tr th {\n",
       "        vertical-align: top;\n",
       "    }\n",
       "\n",
       "    .dataframe thead th {\n",
       "        text-align: right;\n",
       "    }\n",
       "</style>\n",
       "<table border=\"1\" class=\"dataframe\">\n",
       "  <thead>\n",
       "    <tr style=\"text-align: right;\">\n",
       "      <th></th>\n",
       "      <th>index</th>\n",
       "      <th>First Name</th>\n",
       "      <th>Gender</th>\n",
       "      <th>Start Date</th>\n",
       "      <th>Last Login Time</th>\n",
       "      <th>Salary</th>\n",
       "      <th>Bonus %</th>\n",
       "      <th>Senior Management</th>\n",
       "      <th>Team</th>\n",
       "    </tr>\n",
       "  </thead>\n",
       "  <tbody>\n",
       "    <tr>\n",
       "      <th>0</th>\n",
       "      <td>0</td>\n",
       "      <td>Douglas</td>\n",
       "      <td>Male</td>\n",
       "      <td>8/6/1993</td>\n",
       "      <td>12:42 PM</td>\n",
       "      <td>97308</td>\n",
       "      <td>6.945</td>\n",
       "      <td>True</td>\n",
       "      <td>Marketing</td>\n",
       "    </tr>\n",
       "    <tr>\n",
       "      <th>1</th>\n",
       "      <td>2</td>\n",
       "      <td>Maria</td>\n",
       "      <td>Female</td>\n",
       "      <td>4/23/1993</td>\n",
       "      <td>11:17 AM</td>\n",
       "      <td>130590</td>\n",
       "      <td>11.858</td>\n",
       "      <td>False</td>\n",
       "      <td>Finance</td>\n",
       "    </tr>\n",
       "    <tr>\n",
       "      <th>2</th>\n",
       "      <td>3</td>\n",
       "      <td>Jerry</td>\n",
       "      <td>Male</td>\n",
       "      <td>3/4/2005</td>\n",
       "      <td>1:00 PM</td>\n",
       "      <td>138705</td>\n",
       "      <td>9.340</td>\n",
       "      <td>True</td>\n",
       "      <td>Finance</td>\n",
       "    </tr>\n",
       "    <tr>\n",
       "      <th>3</th>\n",
       "      <td>4</td>\n",
       "      <td>Larry</td>\n",
       "      <td>Male</td>\n",
       "      <td>1/24/1998</td>\n",
       "      <td>4:47 PM</td>\n",
       "      <td>101004</td>\n",
       "      <td>1.389</td>\n",
       "      <td>True</td>\n",
       "      <td>Client Services</td>\n",
       "    </tr>\n",
       "    <tr>\n",
       "      <th>4</th>\n",
       "      <td>5</td>\n",
       "      <td>Dennis</td>\n",
       "      <td>Male</td>\n",
       "      <td>4/18/1987</td>\n",
       "      <td>1:35 AM</td>\n",
       "      <td>115163</td>\n",
       "      <td>10.125</td>\n",
       "      <td>False</td>\n",
       "      <td>Legal</td>\n",
       "    </tr>\n",
       "  </tbody>\n",
       "</table>\n",
       "</div>"
      ],
      "text/plain": [
       "   index First Name  Gender Start Date Last Login Time  Salary  Bonus %  \\\n",
       "0      0    Douglas    Male   8/6/1993        12:42 PM   97308    6.945   \n",
       "1      2      Maria  Female  4/23/1993        11:17 AM  130590   11.858   \n",
       "2      3      Jerry    Male   3/4/2005         1:00 PM  138705    9.340   \n",
       "3      4      Larry    Male  1/24/1998         4:47 PM  101004    1.389   \n",
       "4      5     Dennis    Male  4/18/1987         1:35 AM  115163   10.125   \n",
       "\n",
       "  Senior Management             Team  \n",
       "0              True        Marketing  \n",
       "1             False          Finance  \n",
       "2              True          Finance  \n",
       "3              True  Client Services  \n",
       "4             False            Legal  "
      ]
     },
     "execution_count": 11,
     "metadata": {},
     "output_type": "execute_result"
    }
   ],
   "source": []
  },
  {
   "cell_type": "code",
   "execution_count": 24,
   "id": "bbe5d14f",
   "metadata": {},
   "outputs": [
    {
     "data": {
      "text/plain": [
       "<AxesSubplot: xlabel='Gender', ylabel='count'>"
      ]
     },
     "execution_count": 24,
     "metadata": {},
     "output_type": "execute_result"
    },
    {
     "data": {
      "image/png": "[encoded data removed]",
      "text/plain": [
       "<Figure size 1080x504 with 1 Axes>"
      ]
     },
     "metadata": {
      "needs_background": "light"
     },
     "output_type": "display_data"
    }
   ],
   "source": [
    "import seaborn as sns\n",
    "import matplotlib.pyplot as plt\n",
    "plt.figure(figsize = (15,7))\n",
    "sns.countplot(data = df, x = 'Gender')"
   ]
  },
  {
   "cell_type": "code",
   "execution_count": 25,
   "id": "0fced555",
   "metadata": {},
   "outputs": [
    {
     "data": {
      "text/html": [
       "<div>\n",
       "<style scoped>\n",
       "    .dataframe tbody tr th:only-of-type {\n",
       "        vertical-align: middle;\n",
       "    }\n",
       "\n",
       "    .dataframe tbody tr th {\n",
       "        vertical-align: top;\n",
       "    }\n",
       "\n",
       "    .dataframe thead th {\n",
       "        text-align: right;\n",
       "    }\n",
       "</style>\n",
       "<table border=\"1\" class=\"dataframe\">\n",
       "  <thead>\n",
       "    <tr style=\"text-align: right;\">\n",
       "      <th></th>\n",
       "      <th>Gender</th>\n",
       "    </tr>\n",
       "  </thead>\n",
       "  <tbody>\n",
       "    <tr>\n",
       "      <th>Female</th>\n",
       "      <td>393</td>\n",
       "    </tr>\n",
       "    <tr>\n",
       "      <th>Male</th>\n",
       "      <td>371</td>\n",
       "    </tr>\n",
       "  </tbody>\n",
       "</table>\n",
       "</div>"
      ],
      "text/plain": [
       "        Gender\n",
       "Female     393\n",
       "Male       371"
      ]
     },
     "execution_count": 25,
     "metadata": {},
     "output_type": "execute_result"
    }
   ],
   "source": [
    "pd.DataFrame(df['Gender'].value_counts())"
   ]
  },
  {
   "cell_type": "code",
   "execution_count": 26,
   "id": "a325b535",
   "metadata": {},
   "outputs": [
    {
     "data": {
      "text/plain": [
       "<AxesSubplot: ylabel='Gender'>"
      ]
     },
     "execution_count": 26,
     "metadata": {},
     "output_type": "execute_result"
    },
    {
     "data": {
      "image/png": "[encoded data removed]",
      "text/plain": [
       "<Figure size 1080x504 with 1 Axes>"
      ]
     },
     "metadata": {},
     "output_type": "display_data"
    }
   ],
   "source": [
    "plt.figure(figsize = (15,7))\n",
    "df['Gender'].value_counts().plot(kind = 'pie', autopct='%.2f')\n",
    "## another way to do it ?"
   ]
  },
  {
   "cell_type": "code",
   "execution_count": 27,
   "id": "fa0188a6",
   "metadata": {},
   "outputs": [
    {
     "data": {
      "text/plain": [
       "(152, 8)"
      ]
     },
     "execution_count": 27,
     "metadata": {},
     "output_type": "execute_result"
    }
   ],
   "source": [
    "from sklearn.model_selection import train_test_split\n",
    "sample,_ = train_test_split(df,stratify = df['Gender'] , train_size = 0.2)\n",
    "sample.shape"
   ]
  },
  {
   "cell_type": "code",
   "execution_count": 28,
   "id": "042a7b84",
   "metadata": {},
   "outputs": [
    {
     "data": {
      "text/html": [
       "<div>\n",
       "<style scoped>\n",
       "    .dataframe tbody tr th:only-of-type {\n",
       "        vertical-align: middle;\n",
       "    }\n",
       "\n",
       "    .dataframe tbody tr th {\n",
       "        vertical-align: top;\n",
       "    }\n",
       "\n",
       "    .dataframe thead th {\n",
       "        text-align: right;\n",
       "    }\n",
       "</style>\n",
       "<table border=\"1\" class=\"dataframe\">\n",
       "  <thead>\n",
       "    <tr style=\"text-align: right;\">\n",
       "      <th></th>\n",
       "      <th>First Name</th>\n",
       "      <th>Gender</th>\n",
       "      <th>Start Date</th>\n",
       "      <th>Last Login Time</th>\n",
       "      <th>Salary</th>\n",
       "      <th>Bonus %</th>\n",
       "      <th>Senior Management</th>\n",
       "      <th>Team</th>\n",
       "    </tr>\n",
       "  </thead>\n",
       "  <tbody>\n",
       "    <tr>\n",
       "      <th>426</th>\n",
       "      <td>Anne</td>\n",
       "      <td>Female</td>\n",
       "      <td>10/26/1996</td>\n",
       "      <td>8:09 PM</td>\n",
       "      <td>71930</td>\n",
       "      <td>18.451</td>\n",
       "      <td>True</td>\n",
       "      <td>Product</td>\n",
       "    </tr>\n",
       "    <tr>\n",
       "      <th>10</th>\n",
       "      <td>Gary</td>\n",
       "      <td>Male</td>\n",
       "      <td>1/27/2008</td>\n",
       "      <td>11:40 PM</td>\n",
       "      <td>109831</td>\n",
       "      <td>5.831</td>\n",
       "      <td>False</td>\n",
       "      <td>Sales</td>\n",
       "    </tr>\n",
       "    <tr>\n",
       "      <th>174</th>\n",
       "      <td>Sarah</td>\n",
       "      <td>Female</td>\n",
       "      <td>9/14/1995</td>\n",
       "      <td>7:50 AM</td>\n",
       "      <td>87298</td>\n",
       "      <td>2.311</td>\n",
       "      <td>False</td>\n",
       "      <td>Distribution</td>\n",
       "    </tr>\n",
       "    <tr>\n",
       "      <th>450</th>\n",
       "      <td>Jack</td>\n",
       "      <td>Male</td>\n",
       "      <td>5/30/2012</td>\n",
       "      <td>3:17 AM</td>\n",
       "      <td>70367</td>\n",
       "      <td>18.266</td>\n",
       "      <td>True</td>\n",
       "      <td>Legal</td>\n",
       "    </tr>\n",
       "    <tr>\n",
       "      <th>323</th>\n",
       "      <td>Victor</td>\n",
       "      <td>Male</td>\n",
       "      <td>9/24/2005</td>\n",
       "      <td>12:04 PM</td>\n",
       "      <td>123144</td>\n",
       "      <td>16.261</td>\n",
       "      <td>True</td>\n",
       "      <td>Product</td>\n",
       "    </tr>\n",
       "  </tbody>\n",
       "</table>\n",
       "</div>"
      ],
      "text/plain": [
       "    First Name  Gender  Start Date Last Login Time  Salary  Bonus %  \\\n",
       "426       Anne  Female  10/26/1996         8:09 PM   71930   18.451   \n",
       "10        Gary    Male   1/27/2008        11:40 PM  109831    5.831   \n",
       "174      Sarah  Female   9/14/1995         7:50 AM   87298    2.311   \n",
       "450       Jack    Male   5/30/2012         3:17 AM   70367   18.266   \n",
       "323     Victor    Male   9/24/2005        12:04 PM  123144   16.261   \n",
       "\n",
       "    Senior Management          Team  \n",
       "426              True       Product  \n",
       "10              False         Sales  \n",
       "174             False  Distribution  \n",
       "450              True         Legal  \n",
       "323              True       Product  "
      ]
     },
     "execution_count": 28,
     "metadata": {},
     "output_type": "execute_result"
    }
   ],
   "source": [
    "sample.head()"
   ]
  },
  {
   "cell_type": "code",
   "execution_count": 29,
   "id": "85d50dd0",
   "metadata": {},
   "outputs": [
    {
     "data": {
      "text/plain": [
       "<AxesSubplot: xlabel='Gender', ylabel='count'>"
      ]
     },
     "execution_count": 29,
     "metadata": {},
     "output_type": "execute_result"
    },
    {
     "data": {
      "image/png": "[encoded data removed]",
      "text/plain": [
       "<Figure size 1080x504 with 1 Axes>"
      ]
     },
     "metadata": {
      "needs_background": "light"
     },
     "output_type": "display_data"
    }
   ],
   "source": [
    "plt.figure(figsize = (15,7))\n",
    "sns.countplot(data = df, x = 'Gender')"
   ]
  },
  {
   "cell_type": "code",
   "execution_count": 16,
   "id": "bc725f5c",
   "metadata": {},
   "outputs": [
    {
     "data": {
      "text/plain": [
       "<AxesSubplot:xlabel='Gender', ylabel='count'>"
      ]
     },
     "execution_count": 16,
     "metadata": {},
     "output_type": "execute_result"
    },
    {
     "data": {
      "image/png": "[encoded data removed]",
      "text/plain": [
       "<Figure size 1080x504 with 1 Axes>"
      ]
     },
     "metadata": {
      "needs_background": "light"
     },
     "output_type": "display_data"
    }
   ],
   "source": []
  },
  {
   "cell_type": "code",
   "execution_count": 30,
   "id": "0f8e9752",
   "metadata": {},
   "outputs": [
    {
     "data": {
      "text/plain": [
       "<AxesSubplot: ylabel='Gender'>"
      ]
     },
     "execution_count": 30,
     "metadata": {},
     "output_type": "execute_result"
    },
    {
     "data": {
      "image/png": "[encoded data removed]",
      "text/plain": [
       "<Figure size 1080x504 with 1 Axes>"
      ]
     },
     "metadata": {},
     "output_type": "display_data"
    }
   ],
   "source": [
    "plt.figure(figsize = (15,7))\n",
    "sample['Gender'].value_counts().plot(kind = 'pie', autopct='%.2f')\n",
    "## another way to do it ?"
   ]
  },
  {
   "cell_type": "markdown",
   "id": "44f4b61d",
   "metadata": {},
   "source": [
    "## Sampling Distributions and CLT\n",
    "### Take a 10000 samples of sizes 1, 5, 10, 50 from a continuous uniform distribution a=1, b=11. Plot the sampling distribution of the sample mean.\n",
    "### Calculate mean and variance of sampling distribution.\n",
    "### Repeat for any distribution of your choice.\n",
    "##### Hint: fix the scale of x-axis to be able to notice the difference."
   ]
  },
  {
   "cell_type": "code",
   "execution_count": 31,
   "id": "16ba2a3a",
   "metadata": {},
   "outputs": [
    {
     "data": {
      "text/plain": [
       "<AxesSubplot: ylabel='Count'>"
      ]
     },
     "execution_count": 31,
     "metadata": {},
     "output_type": "execute_result"
    },
    {
     "data": {
      "image/png": "[encoded data removed]",
      "text/plain": [
       "<Figure size 432x288 with 1 Axes>"
      ]
     },
     "metadata": {
      "needs_background": "light"
     },
     "output_type": "display_data"
    }
   ],
   "source": [
    "import numpy as np\n",
    "x = np.random.uniform(1,11, size = 5000)\n",
    "sns.histplot(data = x, kde = True)"
   ]
  },
  {
   "cell_type": "code",
   "execution_count": 32,
   "id": "1287998e",
   "metadata": {},
   "outputs": [
    {
     "name": "stdout",
     "output_type": "stream",
     "text": [
      "Population mean:  6.037766564146418  , var:  8.291871952516775\n",
      "Sampling distribution mean:  6.033334883672498  , variance:  8.303801375010522\n"
     ]
    },
    {
     "data": {
      "image/png": "[encoded data removed]",
      "text/plain": [
       "<Figure size 720x504 with 1 Axes>"
      ]
     },
     "metadata": {
      "needs_background": "light"
     },
     "output_type": "display_data"
    }
   ],
   "source": [
    "plt.figure(figsize = (10,7))\n",
    "samples = []\n",
    "for i in range(10000):\n",
    "    samples.append(np.random.choice(x,1))\n",
    "samples = [i.mean() for i in samples]\n",
    "ax = sns.histplot(data = samples, kde = True)\n",
    "ax.set_xlim(0,12);\n",
    "print('Population mean: ', x.mean(), ' , var: ', x.var())\n",
    "print('Sampling distribution mean: ', np.array(samples).mean(), ' , variance: ', np.array(samples).var())"
   ]
  },
  {
   "cell_type": "code",
   "execution_count": 33,
   "id": "539646dc",
   "metadata": {},
   "outputs": [
    {
     "name": "stdout",
     "output_type": "stream",
     "text": [
      "Population mean:  6.037766564146418  , var:  8.291871952516775\n",
      "Sampling distribution mean:  6.043729057894734  , variance:  1.6211030728512652\n"
     ]
    },
    {
     "data": {
      "image/png": "[encoded data removed]",
      "text/plain": [
       "<Figure size 720x504 with 1 Axes>"
      ]
     },
     "metadata": {
      "needs_background": "light"
     },
     "output_type": "display_data"
    }
   ],
   "source": [
    "plt.figure(figsize = (10,7))\n",
    "samples = []\n",
    "for i in range(10000):\n",
    "    samples.append(np.random.choice(x,5))\n",
    "samples = [i.mean() for i in samples]\n",
    "ax = sns.histplot(data = samples, kde = True)\n",
    "ax.set_xlim(0,12);\n",
    "print('Population mean: ', x.mean(), ' , var: ', x.var())\n",
    "print('Sampling distribution mean: ', np.array(samples).mean(), ' , variance: ', np.array(samples).var())"
   ]
  },
  {
   "cell_type": "code",
   "execution_count": 34,
   "id": "6cecdb6e",
   "metadata": {},
   "outputs": [
    {
     "name": "stdout",
     "output_type": "stream",
     "text": [
      "Population mean:  6.037766564146418  , var:  8.291871952516775\n",
      "Sampling distribution mean:  6.03541298341713  , variance:  0.843340301276187\n"
     ]
    },
    {
     "data": {
      "image/png": "[encoded data removed]",
      "text/plain": [
       "<Figure size 720x504 with 1 Axes>"
      ]
     },
     "metadata": {
      "needs_background": "light"
     },
     "output_type": "display_data"
    }
   ],
   "source": [
    "plt.figure(figsize = (10,7))\n",
    "samples = []\n",
    "for i in range(10000):\n",
    "    samples.append(np.random.choice(x,10))\n",
    "samples = [i.mean() for i in samples]\n",
    "ax = sns.histplot(data = samples, kde = True)\n",
    "ax.set_xlim(0,12);\n",
    "print('Population mean: ', x.mean(), ' , var: ', x.var())\n",
    "print('Sampling distribution mean: ', np.array(samples).mean(), ' , variance: ', np.array(samples).var())"
   ]
  },
  {
   "cell_type": "code",
   "execution_count": 35,
   "id": "6b1f8e07",
   "metadata": {},
   "outputs": [
    {
     "name": "stdout",
     "output_type": "stream",
     "text": [
      "Population mean:  6.037766564146418  , var:  8.291871952516775\n",
      "Sampling distribution mean:  6.035376661105263  , variance:  0.16398827271782873\n"
     ]
    },
    {
     "data": {
      "image/png": "[encoded data removed]",
      "text/plain": [
       "<Figure size 720x504 with 1 Axes>"
      ]
     },
     "metadata": {
      "needs_background": "light"
     },
     "output_type": "display_data"
    }
   ],
   "source": [
    "plt.figure(figsize = (10,7))\n",
    "samples = []\n",
    "for i in range(10000):\n",
    "    samples.append(np.random.choice(x,50))\n",
    "samples = [i.mean() for i in samples]\n",
    "ax = sns.histplot(data = samples, kde = True)\n",
    "ax.set_xlim(0,12);\n",
    "print('Population mean: ', x.mean(), ' , var: ', x.var())\n",
    "print('Sampling distribution mean: ', np.array(samples).mean(), ' , variance: ', np.array(samples).var())"
   ]
  },
  {
   "cell_type": "markdown",
   "id": "72d01cbf",
   "metadata": {},
   "source": [
    "### Repeat for any distribution of your choice."
   ]
  },
  {
   "cell_type": "code",
   "execution_count": 36,
   "id": "8eca4215",
   "metadata": {},
   "outputs": [
    {
     "data": {
      "image/png": "[encoded data removed]",
      "text/plain": [
       "<Figure size 720x504 with 1 Axes>"
      ]
     },
     "metadata": {
      "needs_background": "light"
     },
     "output_type": "display_data"
    }
   ],
   "source": [
    "plt.figure(figsize = (10,7))\n",
    "y = np.random.exponential(size = 5000)\n",
    "ax = sns.histplot(data = y, kde = True)\n",
    "ax.set_xlim(0,12);"
   ]
  },
  {
   "cell_type": "code",
   "execution_count": 37,
   "id": "f2df6603",
   "metadata": {},
   "outputs": [
    {
     "name": "stdout",
     "output_type": "stream",
     "text": [
      "Population mean:  0.9828081959101214  , var:  0.929394534511963\n",
      "Sampling distribution mean:  0.9841998933512975  , variance:  0.9244109422592883\n"
     ]
    },
    {
     "data": {
      "image/png": "[encoded data removed]",
      "text/plain": [
       "<Figure size 720x504 with 1 Axes>"
      ]
     },
     "metadata": {
      "needs_background": "light"
     },
     "output_type": "display_data"
    }
   ],
   "source": [
    "plt.figure(figsize = (10,7))\n",
    "samples = []\n",
    "for i in range(10000):\n",
    "    samples.append(np.random.choice(y,1))\n",
    "samples = [i.mean() for i in samples]\n",
    "ax = sns.histplot(data = samples, kde = True)\n",
    "ax.set_xlim(0,12);\n",
    "print('Population mean: ', y.mean(), ' , var: ', y.var())\n",
    "print('Sampling distribution mean: ', np.array(samples).mean(), ' , variance: ', np.array(samples).var())"
   ]
  },
  {
   "cell_type": "code",
   "execution_count": 38,
   "id": "58df7e8d",
   "metadata": {},
   "outputs": [
    {
     "name": "stdout",
     "output_type": "stream",
     "text": [
      "Population mean:  0.9828081959101214  , var:  0.929394534511963\n",
      "Sampling distribution mean:  0.9826736206128753  , variance:  0.18384604549604844\n"
     ]
    },
    {
     "data": {
      "image/png": "[encoded data removed]",
      "text/plain": [
       "<Figure size 720x504 with 1 Axes>"
      ]
     },
     "metadata": {
      "needs_background": "light"
     },
     "output_type": "display_data"
    }
   ],
   "source": [
    "plt.figure(figsize = (10,7))\n",
    "samples = []\n",
    "for i in range(10000):\n",
    "    samples.append(np.random.choice(y,5))\n",
    "samples = [i.mean() for i in samples]\n",
    "ax = sns.histplot(data = samples, kde = True)\n",
    "ax.set_xlim(0,12);\n",
    "print('Population mean: ', y.mean(), ' , var: ', y.var())\n",
    "print('Sampling distribution mean: ', np.array(samples).mean(), ' , variance: ', np.array(samples).var())"
   ]
  },
  {
   "cell_type": "code",
   "execution_count": 39,
   "id": "4ce4af7b",
   "metadata": {},
   "outputs": [
    {
     "name": "stdout",
     "output_type": "stream",
     "text": [
      "Population mean:  0.9828081959101214  , var:  0.929394534511963\n",
      "Sampling distribution mean:  0.9824428266519212  , variance:  0.0929688840195479\n"
     ]
    },
    {
     "data": {
      "image/png": "[encoded data removed]",
      "text/plain": [
       "<Figure size 720x504 with 1 Axes>"
      ]
     },
     "metadata": {
      "needs_background": "light"
     },
     "output_type": "display_data"
    }
   ],
   "source": [
    "plt.figure(figsize = (10,7))\n",
    "samples = []\n",
    "for i in range(10000):\n",
    "    samples.append(np.random.choice(y,10))\n",
    "samples = [i.mean() for i in samples]\n",
    "ax = sns.histplot(data = samples, kde = True)\n",
    "ax.set_xlim(0,12);\n",
    "print('Population mean: ', y.mean(), ' , var: ', y.var())\n",
    "print('Sampling distribution mean: ', np.array(samples).mean(), ' , variance: ', np.array(samples).var())"
   ]
  },
  {
   "cell_type": "code",
   "execution_count": 40,
   "id": "54ad1b92",
   "metadata": {},
   "outputs": [
    {
     "name": "stdout",
     "output_type": "stream",
     "text": [
      "Population mean:  0.9828081959101214  , var:  0.929394534511963\n",
      "Sampling distribution mean:  0.9820586053264977  , variance:  0.018572931002236996\n"
     ]
    },
    {
     "data": {
      "image/png": "[encoded data removed]",
      "text/plain": [
       "<Figure size 720x504 with 1 Axes>"
      ]
     },
     "metadata": {
      "needs_background": "light"
     },
     "output_type": "display_data"
    }
   ],
   "source": [
    "plt.figure(figsize = (10,7))\n",
    "samples = []\n",
    "for i in range(10000):\n",
    "    samples.append(np.random.choice(y,50))\n",
    "samples = [i.mean() for i in samples]\n",
    "ax = sns.histplot(data = samples, kde = True)\n",
    "ax.set_xlim(0,12);\n",
    "print('Population mean: ', y.mean(), ' , var: ', y.var())\n",
    "print('Sampling distribution mean: ', np.array(samples).mean(), ' , variance: ', np.array(samples).var())"
   ]
  },
  {
   "cell_type": "markdown",
   "id": "017aceae",
   "metadata": {},
   "source": [
    "## Confidence Interval (CI)\n",
    "### Within how many standard deviations the estimated sample mean should be located for CIs 90%, 92%, 95%, 98%, 99%.   "
   ]
  },
  {
   "cell_type": "code",
   "execution_count": 41,
   "id": "d4494f7c",
   "metadata": {},
   "outputs": [
    {
     "name": "stdout",
     "output_type": "stream",
     "text": [
      "For CI 90%: within  1.6448536269514722 standad deviations\n",
      "For CI 90%: within  1.7506860712521692 standad deviations\n",
      "For CI 90%: within  1.959963984540054 standad deviations\n",
      "For CI 90%: within  2.3263478740408408 standad deviations\n",
      "For CI 90%: within  2.5758293035489004 standad deviations\n"
     ]
    }
   ],
   "source": [
    "from scipy.stats import norm\n",
    "print('For CI 90%: within ', norm.ppf((0.9/2)+0.5), 'standad deviations')\n",
    "print('For CI 90%: within ', norm.ppf((0.92/2)+0.5), 'standad deviations')\n",
    "print('For CI 90%: within ', norm.ppf((0.95/2)+0.5), 'standad deviations')\n",
    "print('For CI 90%: within ', norm.ppf((0.98/2)+0.5), 'standad deviations')\n",
    "print('For CI 90%: within ', norm.ppf((0.99/2)+0.5), 'standad deviations')"
   ]
  },
  {
   "cell_type": "markdown",
   "id": "2fb5db46",
   "metadata": {},
   "source": [
    "### Calculate the expected mean with 95% CI for each team for the employees data as follow:\n",
    "##### Using z-value.\n",
    "##### Using t-value.\n",
    "##### Compare the results obtaind from the above calculation and write a conclusion.\n",
    "##### Perform  sns.barplot() and check out the displayed confidence intervals. Compare with your results."
   ]
  },
  {
   "cell_type": "code",
   "execution_count": 42,
   "id": "4d986063",
   "metadata": {},
   "outputs": [
    {
     "data": {
      "text/html": [
       "<div>\n",
       "<style scoped>\n",
       "    .dataframe tbody tr th:only-of-type {\n",
       "        vertical-align: middle;\n",
       "    }\n",
       "\n",
       "    .dataframe tbody tr th {\n",
       "        vertical-align: top;\n",
       "    }\n",
       "\n",
       "    .dataframe thead th {\n",
       "        text-align: right;\n",
       "    }\n",
       "</style>\n",
       "<table border=\"1\" class=\"dataframe\">\n",
       "  <thead>\n",
       "    <tr style=\"text-align: right;\">\n",
       "      <th></th>\n",
       "      <th>First Name</th>\n",
       "      <th>Gender</th>\n",
       "      <th>Start Date</th>\n",
       "      <th>Last Login Time</th>\n",
       "      <th>Salary</th>\n",
       "      <th>Bonus %</th>\n",
       "      <th>Senior Management</th>\n",
       "      <th>Team</th>\n",
       "    </tr>\n",
       "  </thead>\n",
       "  <tbody>\n",
       "    <tr>\n",
       "      <th>0</th>\n",
       "      <td>Douglas</td>\n",
       "      <td>Male</td>\n",
       "      <td>8/6/1993</td>\n",
       "      <td>12:42 PM</td>\n",
       "      <td>97308</td>\n",
       "      <td>6.945</td>\n",
       "      <td>True</td>\n",
       "      <td>Marketing</td>\n",
       "    </tr>\n",
       "    <tr>\n",
       "      <th>1</th>\n",
       "      <td>Maria</td>\n",
       "      <td>Female</td>\n",
       "      <td>4/23/1993</td>\n",
       "      <td>11:17 AM</td>\n",
       "      <td>130590</td>\n",
       "      <td>11.858</td>\n",
       "      <td>False</td>\n",
       "      <td>Finance</td>\n",
       "    </tr>\n",
       "    <tr>\n",
       "      <th>2</th>\n",
       "      <td>Jerry</td>\n",
       "      <td>Male</td>\n",
       "      <td>3/4/2005</td>\n",
       "      <td>1:00 PM</td>\n",
       "      <td>138705</td>\n",
       "      <td>9.340</td>\n",
       "      <td>True</td>\n",
       "      <td>Finance</td>\n",
       "    </tr>\n",
       "    <tr>\n",
       "      <th>3</th>\n",
       "      <td>Larry</td>\n",
       "      <td>Male</td>\n",
       "      <td>1/24/1998</td>\n",
       "      <td>4:47 PM</td>\n",
       "      <td>101004</td>\n",
       "      <td>1.389</td>\n",
       "      <td>True</td>\n",
       "      <td>Client Services</td>\n",
       "    </tr>\n",
       "    <tr>\n",
       "      <th>4</th>\n",
       "      <td>Dennis</td>\n",
       "      <td>Male</td>\n",
       "      <td>4/18/1987</td>\n",
       "      <td>1:35 AM</td>\n",
       "      <td>115163</td>\n",
       "      <td>10.125</td>\n",
       "      <td>False</td>\n",
       "      <td>Legal</td>\n",
       "    </tr>\n",
       "  </tbody>\n",
       "</table>\n",
       "</div>"
      ],
      "text/plain": [
       "  First Name  Gender Start Date Last Login Time  Salary  Bonus %  \\\n",
       "0    Douglas    Male   8/6/1993        12:42 PM   97308    6.945   \n",
       "1      Maria  Female  4/23/1993        11:17 AM  130590   11.858   \n",
       "2      Jerry    Male   3/4/2005         1:00 PM  138705    9.340   \n",
       "3      Larry    Male  1/24/1998         4:47 PM  101004    1.389   \n",
       "4     Dennis    Male  4/18/1987         1:35 AM  115163   10.125   \n",
       "\n",
       "  Senior Management             Team  \n",
       "0              True        Marketing  \n",
       "1             False          Finance  \n",
       "2              True          Finance  \n",
       "3              True  Client Services  \n",
       "4             False            Legal  "
      ]
     },
     "execution_count": 42,
     "metadata": {},
     "output_type": "execute_result"
    }
   ],
   "source": [
    "df.head()"
   ]
  },
  {
   "cell_type": "code",
   "execution_count": 43,
   "id": "482aa4ab",
   "metadata": {},
   "outputs": [
    {
     "data": {
      "text/plain": [
       "1.959963984540054"
      ]
     },
     "execution_count": 43,
     "metadata": {},
     "output_type": "execute_result"
    }
   ],
   "source": [
    "z = norm.ppf((0.95/2)+0.5)\n",
    "z"
   ]
  },
  {
   "cell_type": "code",
   "execution_count": 44,
   "id": "5f8dade6",
   "metadata": {},
   "outputs": [
    {
     "data": {
      "text/html": [
       "<div>\n",
       "<style scoped>\n",
       "    .dataframe tbody tr th:only-of-type {\n",
       "        vertical-align: middle;\n",
       "    }\n",
       "\n",
       "    .dataframe tbody tr th {\n",
       "        vertical-align: top;\n",
       "    }\n",
       "\n",
       "    .dataframe thead th {\n",
       "        text-align: right;\n",
       "    }\n",
       "</style>\n",
       "<table border=\"1\" class=\"dataframe\">\n",
       "  <thead>\n",
       "    <tr style=\"text-align: right;\">\n",
       "      <th></th>\n",
       "      <th>mean</th>\n",
       "      <th>std</th>\n",
       "      <th>count</th>\n",
       "    </tr>\n",
       "    <tr>\n",
       "      <th>Team</th>\n",
       "      <th></th>\n",
       "      <th></th>\n",
       "      <th></th>\n",
       "    </tr>\n",
       "  </thead>\n",
       "  <tbody>\n",
       "    <tr>\n",
       "      <th>Business Development</th>\n",
       "      <td>90520.397727</td>\n",
       "      <td>34003.949519</td>\n",
       "      <td>88</td>\n",
       "    </tr>\n",
       "    <tr>\n",
       "      <th>Client Services</th>\n",
       "      <td>89336.658824</td>\n",
       "      <td>31388.107545</td>\n",
       "      <td>85</td>\n",
       "    </tr>\n",
       "    <tr>\n",
       "      <th>Distribution</th>\n",
       "      <td>85849.100000</td>\n",
       "      <td>34591.228251</td>\n",
       "      <td>60</td>\n",
       "    </tr>\n",
       "    <tr>\n",
       "      <th>Engineering</th>\n",
       "      <td>94369.405063</td>\n",
       "      <td>33128.774280</td>\n",
       "      <td>79</td>\n",
       "    </tr>\n",
       "    <tr>\n",
       "      <th>Finance</th>\n",
       "      <td>94519.075000</td>\n",
       "      <td>34888.408496</td>\n",
       "      <td>80</td>\n",
       "    </tr>\n",
       "    <tr>\n",
       "      <th>Human Resources</th>\n",
       "      <td>91145.171053</td>\n",
       "      <td>33003.806207</td>\n",
       "      <td>76</td>\n",
       "    </tr>\n",
       "    <tr>\n",
       "      <th>Legal</th>\n",
       "      <td>88066.402985</td>\n",
       "      <td>32946.885027</td>\n",
       "      <td>67</td>\n",
       "    </tr>\n",
       "    <tr>\n",
       "      <th>Marketing</th>\n",
       "      <td>90764.081081</td>\n",
       "      <td>32547.554819</td>\n",
       "      <td>74</td>\n",
       "    </tr>\n",
       "    <tr>\n",
       "      <th>Product</th>\n",
       "      <td>86935.963855</td>\n",
       "      <td>32005.495537</td>\n",
       "      <td>83</td>\n",
       "    </tr>\n",
       "    <tr>\n",
       "      <th>Sales</th>\n",
       "      <td>91724.819444</td>\n",
       "      <td>31003.120063</td>\n",
       "      <td>72</td>\n",
       "    </tr>\n",
       "  </tbody>\n",
       "</table>\n",
       "</div>"
      ],
      "text/plain": [
       "                              mean           std  count\n",
       "Team                                                   \n",
       "Business Development  90520.397727  34003.949519     88\n",
       "Client Services       89336.658824  31388.107545     85\n",
       "Distribution          85849.100000  34591.228251     60\n",
       "Engineering           94369.405063  33128.774280     79\n",
       "Finance               94519.075000  34888.408496     80\n",
       "Human Resources       91145.171053  33003.806207     76\n",
       "Legal                 88066.402985  32946.885027     67\n",
       "Marketing             90764.081081  32547.554819     74\n",
       "Product               86935.963855  32005.495537     83\n",
       "Sales                 91724.819444  31003.120063     72"
      ]
     },
     "execution_count": 44,
     "metadata": {},
     "output_type": "execute_result"
    }
   ],
   "source": [
    "stat_df = pd.DataFrame(df.groupby('Team')['Salary'].agg( ['mean', 'std','count'] ))\n",
    "stat_df"
   ]
  },
  {
   "cell_type": "code",
   "execution_count": 45,
   "id": "2a70ac88",
   "metadata": {},
   "outputs": [],
   "source": [
    "from scipy.stats import t"
   ]
  },
  {
   "cell_type": "code",
   "execution_count": 46,
   "id": "b6c94ba9",
   "metadata": {},
   "outputs": [
    {
     "data": {
      "text/html": [
       "<div>\n",
       "<style scoped>\n",
       "    .dataframe tbody tr th:only-of-type {\n",
       "        vertical-align: middle;\n",
       "    }\n",
       "\n",
       "    .dataframe tbody tr th {\n",
       "        vertical-align: top;\n",
       "    }\n",
       "\n",
       "    .dataframe thead th {\n",
       "        text-align: right;\n",
       "    }\n",
       "</style>\n",
       "<table border=\"1\" class=\"dataframe\">\n",
       "  <thead>\n",
       "    <tr style=\"text-align: right;\">\n",
       "      <th></th>\n",
       "      <th>mean</th>\n",
       "      <th>std</th>\n",
       "      <th>count</th>\n",
       "      <th>CI95%_Low_z</th>\n",
       "      <th>CI95%_High_z</th>\n",
       "      <th>CI95%_Low_t</th>\n",
       "      <th>CI95%_High_t</th>\n",
       "    </tr>\n",
       "    <tr>\n",
       "      <th>Team</th>\n",
       "      <th></th>\n",
       "      <th></th>\n",
       "      <th></th>\n",
       "      <th></th>\n",
       "      <th></th>\n",
       "      <th></th>\n",
       "      <th></th>\n",
       "    </tr>\n",
       "  </thead>\n",
       "  <tbody>\n",
       "    <tr>\n",
       "      <th>Business Development</th>\n",
       "      <td>90520.397727</td>\n",
       "      <td>34003.949519</td>\n",
       "      <td>88</td>\n",
       "      <td>83415.855209</td>\n",
       "      <td>97624.940246</td>\n",
       "      <td>83315.649244</td>\n",
       "      <td>97725.146211</td>\n",
       "    </tr>\n",
       "    <tr>\n",
       "      <th>Client Services</th>\n",
       "      <td>89336.658824</td>\n",
       "      <td>31388.107545</td>\n",
       "      <td>85</td>\n",
       "      <td>82663.925630</td>\n",
       "      <td>96009.392017</td>\n",
       "      <td>82566.400881</td>\n",
       "      <td>96106.916766</td>\n",
       "    </tr>\n",
       "    <tr>\n",
       "      <th>Distribution</th>\n",
       "      <td>85849.100000</td>\n",
       "      <td>34591.228251</td>\n",
       "      <td>60</td>\n",
       "      <td>77096.472440</td>\n",
       "      <td>94601.727560</td>\n",
       "      <td>76913.238207</td>\n",
       "      <td>94784.961793</td>\n",
       "    </tr>\n",
       "    <tr>\n",
       "      <th>Engineering</th>\n",
       "      <td>94369.405063</td>\n",
       "      <td>33128.774280</td>\n",
       "      <td>79</td>\n",
       "      <td>87064.073812</td>\n",
       "      <td>101674.736314</td>\n",
       "      <td>86948.963963</td>\n",
       "      <td>101789.846164</td>\n",
       "    </tr>\n",
       "    <tr>\n",
       "      <th>Finance</th>\n",
       "      <td>94519.075000</td>\n",
       "      <td>34888.408496</td>\n",
       "      <td>80</td>\n",
       "      <td>86873.955887</td>\n",
       "      <td>102164.194113</td>\n",
       "      <td>86755.040016</td>\n",
       "      <td>102283.109984</td>\n",
       "    </tr>\n",
       "    <tr>\n",
       "      <th>Human Resources</th>\n",
       "      <td>91145.171053</td>\n",
       "      <td>33003.806207</td>\n",
       "      <td>76</td>\n",
       "      <td>83725.146827</td>\n",
       "      <td>98565.195278</td>\n",
       "      <td>83603.478268</td>\n",
       "      <td>98686.863837</td>\n",
       "    </tr>\n",
       "    <tr>\n",
       "      <th>Legal</th>\n",
       "      <td>88066.402985</td>\n",
       "      <td>32946.885027</td>\n",
       "      <td>67</td>\n",
       "      <td>80177.346782</td>\n",
       "      <td>95955.459188</td>\n",
       "      <td>80030.026280</td>\n",
       "      <td>96102.779690</td>\n",
       "    </tr>\n",
       "    <tr>\n",
       "      <th>Marketing</th>\n",
       "      <td>90764.081081</td>\n",
       "      <td>32547.554819</td>\n",
       "      <td>74</td>\n",
       "      <td>83348.407615</td>\n",
       "      <td>98179.754547</td>\n",
       "      <td>83223.424202</td>\n",
       "      <td>98304.737960</td>\n",
       "    </tr>\n",
       "    <tr>\n",
       "      <th>Product</th>\n",
       "      <td>86935.963855</td>\n",
       "      <td>32005.495537</td>\n",
       "      <td>83</td>\n",
       "      <td>80050.493695</td>\n",
       "      <td>93821.434016</td>\n",
       "      <td>79947.369334</td>\n",
       "      <td>93924.558376</td>\n",
       "    </tr>\n",
       "    <tr>\n",
       "      <th>Sales</th>\n",
       "      <td>91724.819444</td>\n",
       "      <td>31003.120063</td>\n",
       "      <td>72</td>\n",
       "      <td>84563.595667</td>\n",
       "      <td>98886.043221</td>\n",
       "      <td>84439.443404</td>\n",
       "      <td>99010.195485</td>\n",
       "    </tr>\n",
       "  </tbody>\n",
       "</table>\n",
       "</div>"
      ],
      "text/plain": [
       "                              mean           std  count   CI95%_Low_z  \\\n",
       "Team                                                                    \n",
       "Business Development  90520.397727  34003.949519     88  83415.855209   \n",
       "Client Services       89336.658824  31388.107545     85  82663.925630   \n",
       "Distribution          85849.100000  34591.228251     60  77096.472440   \n",
       "Engineering           94369.405063  33128.774280     79  87064.073812   \n",
       "Finance               94519.075000  34888.408496     80  86873.955887   \n",
       "Human Resources       91145.171053  33003.806207     76  83725.146827   \n",
       "Legal                 88066.402985  32946.885027     67  80177.346782   \n",
       "Marketing             90764.081081  32547.554819     74  83348.407615   \n",
       "Product               86935.963855  32005.495537     83  80050.493695   \n",
       "Sales                 91724.819444  31003.120063     72  84563.595667   \n",
       "\n",
       "                       CI95%_High_z   CI95%_Low_t   CI95%_High_t  \n",
       "Team                                                              \n",
       "Business Development   97624.940246  83315.649244   97725.146211  \n",
       "Client Services        96009.392017  82566.400881   96106.916766  \n",
       "Distribution           94601.727560  76913.238207   94784.961793  \n",
       "Engineering           101674.736314  86948.963963  101789.846164  \n",
       "Finance               102164.194113  86755.040016  102283.109984  \n",
       "Human Resources        98565.195278  83603.478268   98686.863837  \n",
       "Legal                  95955.459188  80030.026280   96102.779690  \n",
       "Marketing              98179.754547  83223.424202   98304.737960  \n",
       "Product                93821.434016  79947.369334   93924.558376  \n",
       "Sales                  98886.043221  84439.443404   99010.195485  "
      ]
     },
     "execution_count": 46,
     "metadata": {},
     "output_type": "execute_result"
    }
   ],
   "source": [
    "stat_df['CI95%_Low_z'] = stat_df['mean'] - (z*stat_df['std']/np.sqrt(stat_df['count']) )\n",
    "stat_df['CI95%_High_z'] = (z*stat_df['std']/np.sqrt(stat_df['count']) ) + stat_df['mean']\n",
    "\n",
    "stat_df['CI95%_Low_t'] = stat_df['mean'] - (t.ppf((0.95/2)+0.5,stat_df['count']-1) * \\\n",
    "                                             stat_df['std']/np.sqrt(stat_df['count']))\n",
    "\n",
    "stat_df['CI95%_High_t'] = (t.ppf((0.95/2)+0.5,stat_df['count']-1) * \\\n",
    "                          stat_df['std']/np.sqrt(stat_df['count']) ) + stat_df['mean']\n",
    "stat_df"
   ]
  },
  {
   "cell_type": "code",
   "execution_count": 47,
   "id": "0dec30cb",
   "metadata": {},
   "outputs": [
    {
     "data": {
      "image/png": "[encoded data removed]",
      "text/plain": [
       "<Figure size 1080x720 with 1 Axes>"
      ]
     },
     "metadata": {
      "needs_background": "light"
     },
     "output_type": "display_data"
    }
   ],
   "source": [
    "plt.figure(figsize = (15,10))\n",
    "draw = sns.barplot(data = df, x = 'Team', y='Salary')\n",
    "plt.xticks(rotation = 45);"
   ]
  },
  {
   "cell_type": "markdown",
   "id": "bf6db06a",
   "metadata": {},
   "source": [
    "## Hypothesis Testing"
   ]
  },
  {
   "cell_type": "markdown",
   "id": "d8c24a16",
   "metadata": {},
   "source": [
    "### Plot a histogram of salary."
   ]
  },
  {
   "cell_type": "code",
   "execution_count": 48,
   "id": "25c010bc",
   "metadata": {},
   "outputs": [
    {
     "data": {
      "text/plain": [
       "<AxesSubplot: xlabel='Salary', ylabel='Count'>"
      ]
     },
     "execution_count": 48,
     "metadata": {},
     "output_type": "execute_result"
    },
    {
     "data": {
      "image/png": "[encoded data removed]",
      "text/plain": [
       "<Figure size 432x288 with 1 Axes>"
      ]
     },
     "metadata": {
      "needs_background": "light"
     },
     "output_type": "display_data"
    }
   ],
   "source": [
    "sns.histplot(data = df, x = 'Salary')"
   ]
  },
  {
   "cell_type": "markdown",
   "id": "60a03f24",
   "metadata": {},
   "source": [
    "### Find mean, standard deviation, and count of salary."
   ]
  },
  {
   "cell_type": "code",
   "execution_count": 49,
   "id": "e0494a0a",
   "metadata": {},
   "outputs": [
    {
     "data": {
      "text/html": [
       "<div>\n",
       "<style scoped>\n",
       "    .dataframe tbody tr th:only-of-type {\n",
       "        vertical-align: middle;\n",
       "    }\n",
       "\n",
       "    .dataframe tbody tr th {\n",
       "        vertical-align: top;\n",
       "    }\n",
       "\n",
       "    .dataframe thead th {\n",
       "        text-align: right;\n",
       "    }\n",
       "</style>\n",
       "<table border=\"1\" class=\"dataframe\">\n",
       "  <thead>\n",
       "    <tr style=\"text-align: right;\">\n",
       "      <th></th>\n",
       "      <th>Salary</th>\n",
       "    </tr>\n",
       "  </thead>\n",
       "  <tbody>\n",
       "    <tr>\n",
       "      <th>mean</th>\n",
       "      <td>90433.196335</td>\n",
       "    </tr>\n",
       "    <tr>\n",
       "      <th>std</th>\n",
       "      <td>32864.665282</td>\n",
       "    </tr>\n",
       "    <tr>\n",
       "      <th>count</th>\n",
       "      <td>764.000000</td>\n",
       "    </tr>\n",
       "  </tbody>\n",
       "</table>\n",
       "</div>"
      ],
      "text/plain": [
       "             Salary\n",
       "mean   90433.196335\n",
       "std    32864.665282\n",
       "count    764.000000"
      ]
     },
     "execution_count": 49,
     "metadata": {},
     "output_type": "execute_result"
    }
   ],
   "source": [
    "pd.DataFrame(df['Salary'].agg(['mean','std','count']))"
   ]
  },
  {
   "cell_type": "markdown",
   "id": "ec55c23f",
   "metadata": {},
   "source": [
    "### For all of the following Hypothesis Tests you must:\n",
    "#### Define your null and alternate Hypothesis.\n",
    "#### Perform z-test and t-test.\n",
    "#### State which test you need (two tailed / one tailed - right or left )\n",
    "#### The calculation must be performed using the Hypothesis test equations. \n",
    "#### i.e., calculate the standard error then calculate the z or t values then calculate p-value once using z-distribution and once using t-distribution.\n",
    "#### Repeat using statsmodels.stats.weightstats.ztest() and scipy.stats.ttest_1samp() to confirm the obtained results.\n",
    "#### Write down your conclusion (Reject H0 or not)."
   ]
  },
  {
   "cell_type": "markdown",
   "id": "3da9fb4f",
   "metadata": {},
   "source": [
    "### The claim is that the mean salary is 90000. Check if the data supports this claim or not. i.e., reject this claim or not."
   ]
  },
  {
   "cell_type": "code",
   "execution_count": 50,
   "id": "ceebbc03",
   "metadata": {},
   "outputs": [],
   "source": [
    "from scipy.stats import norm\n",
    "from scipy.stats import t\n",
    "from statsmodels.stats.weightstats import ztest\n",
    "from scipy.stats import ttest_1samp"
   ]
  },
  {
   "cell_type": "code",
   "execution_count": 51,
   "id": "a56d04e1",
   "metadata": {},
   "outputs": [
    {
     "name": "stdout",
     "output_type": "stream",
     "text": [
      "t or z value:  0.3643361288778422\n",
      "P-value using z dist:  0.7156070241477364\n",
      "P-value using z dist:  0.715707969136572\n"
     ]
    }
   ],
   "source": [
    "# H0: mean(salary) = 90,000\n",
    "# Ha: mean(salary) != 90,000\n",
    "# two-tailed test\n",
    "# alpha = 0.05 (significance level)\n",
    "\n",
    "z = (df['Salary'].mean()-90_000)/(df['Salary'].std()/np.sqrt(df['Salary'].count()))\n",
    "print('t or z value: ', z)\n",
    "print('P-value using z dist: ',(1- norm.cdf(z))*2)\n",
    "print('P-value using z dist: ',(1- t.cdf(z, df = df['Salary'].count()-1))*2)\n",
    "\n",
    "\n",
    "# Since p-value is greater than the significance level thus can't reject null hypothesis"
   ]
  },
  {
   "cell_type": "code",
   "execution_count": 52,
   "id": "fbb3979a",
   "metadata": {},
   "outputs": [
    {
     "name": "stdout",
     "output_type": "stream",
     "text": [
      "z value:  0.3643361288778422\n",
      "p-value using z dist:  0.7156070241477364\n"
     ]
    }
   ],
   "source": [
    "result = ztest(x1=df['Salary'], value = 90_000) \n",
    "print('z value: ',result[0])\n",
    "print('p-value using z dist: ',result[1])"
   ]
  },
  {
   "cell_type": "code",
   "execution_count": 53,
   "id": "36a3c8f2",
   "metadata": {},
   "outputs": [
    {
     "name": "stdout",
     "output_type": "stream",
     "text": [
      "t value:  0.3643361288778422\n",
      "p-value using t dist:  0.7157079691365718\n"
     ]
    }
   ],
   "source": [
    "result = ttest_1samp(a = df['Salary'], popmean = 90_000)\n",
    "print('t value: ',result[0])\n",
    "print('p-value using t dist: ',result[1])"
   ]
  },
  {
   "cell_type": "markdown",
   "id": "6c1afb49",
   "metadata": {},
   "source": [
    "### The claim is that the mean salary is 100000. Check if the data supports this claim or not. i.e., reject this claim or not."
   ]
  },
  {
   "cell_type": "code",
   "execution_count": 54,
   "id": "7d2b6dc6",
   "metadata": {},
   "outputs": [
    {
     "name": "stdout",
     "output_type": "stream",
     "text": [
      "t or z value:  -8.04607964280197\n",
      "P-value using z dist:  8.881784197001252e-16\n",
      "P-value using z dist:  3.3306690738754696e-15\n"
     ]
    }
   ],
   "source": [
    "# H0: mean(Salary) = 100,000\n",
    "# Ha: mean(Salary) != 100,000\n",
    "# its two-tailed test\n",
    "# alpha = 0.05 (significance level)\n",
    "\n",
    "z = (df['Salary'].mean()-100_000)/(df['Salary'].std()/np.sqrt(df['Salary'].count()))\n",
    "print('t or z value: ', z)\n",
    "print('P-value using z dist: ',(1- norm.cdf(abs(z)))*2)\n",
    "print('P-value using z dist: ',(1- t.cdf(abs(z), df = df['Salary'].count()-1))*2)\n",
    "\n",
    "# Since p-value is much less than significance level thus its statistically significant and reject the null hypothesis"
   ]
  },
  {
   "cell_type": "code",
   "execution_count": 55,
   "id": "74e3a531",
   "metadata": {},
   "outputs": [
    {
     "name": "stdout",
     "output_type": "stream",
     "text": [
      "z value:  -8.04607964280197\n",
      "p-value using z dist:  8.548837039392978e-16\n"
     ]
    }
   ],
   "source": [
    "result = ztest(x1=df['Salary'], value = 100_000) \n",
    "print('z value: ',result[0])\n",
    "print('p-value using z dist: ',result[1])"
   ]
  },
  {
   "cell_type": "code",
   "execution_count": 56,
   "id": "1a0d429d",
   "metadata": {},
   "outputs": [
    {
     "name": "stdout",
     "output_type": "stream",
     "text": [
      "t value:  -8.04607964280197\n",
      "p-value using t dist:  3.266925104077574e-15\n"
     ]
    }
   ],
   "source": [
    "result = ttest_1samp(a = df['Salary'], popmean = 100_000)\n",
    "print('t value: ',result[0])\n",
    "print('p-value using t dist: ',result[1])"
   ]
  },
  {
   "cell_type": "markdown",
   "id": "7c9b6ddb",
   "metadata": {},
   "source": [
    "### The claim is that the mean salary is greater than or equal to 92000. Check if the data supports this claim or not. i.e., reject this claim or not."
   ]
  },
  {
   "cell_type": "code",
   "execution_count": 57,
   "id": "e1290903",
   "metadata": {},
   "outputs": [
    {
     "name": "stdout",
     "output_type": "stream",
     "text": [
      "Z critical at significance level:  -1.6448536269514729\n",
      "t or z value:  -1.3177470254581203\n",
      "P-value using z dist:  0.09379417338868268\n",
      "P-value using z dist:  0.09399193010617357\n"
     ]
    }
   ],
   "source": [
    "# H0: mean(Salary) >= 92,000\n",
    "# Ha: mean(Salary) < 92,000\n",
    "# its left-tailed test\n",
    "# alpha = 0.05 (significance level)\n",
    "\n",
    "z_critical = norm.ppf(0.05)\n",
    "print('Z critical at significance level: ', z_critical)\n",
    "\n",
    "z = (df['Salary'].mean()-92_000)/(df['Salary'].std()/np.sqrt(df['Salary'].count()))\n",
    "print('t or z value: ', z)\n",
    "print('P-value using z dist: ',(1- norm.cdf(abs(z))))\n",
    "print('P-value using z dist: ',(1- t.cdf(abs(z), df = df['Salary'].count()-1)))\n",
    "\n",
    "# Since p-value is greater than significance level meaning its more likely to be by chance thus, can't reject null hyp."
   ]
  },
  {
   "cell_type": "code",
   "execution_count": 58,
   "id": "5d51ba75",
   "metadata": {},
   "outputs": [
    {
     "name": "stdout",
     "output_type": "stream",
     "text": [
      "z value:  -1.3177470254581203\n",
      "p-value using z dist:  0.09379417338868268\n"
     ]
    }
   ],
   "source": [
    "result = ztest(x1=df['Salary'], value = 92_000, alternative='smaller') \n",
    "print('z value: ',result[0])\n",
    "print('p-value using z dist: ',result[1])"
   ]
  },
  {
   "cell_type": "code",
   "execution_count": 59,
   "id": "f0be025f",
   "metadata": {},
   "outputs": [
    {
     "name": "stdout",
     "output_type": "stream",
     "text": [
      "t value:  -1.3177470254581203\n",
      "p-value using t dist:  0.0939919301061736\n"
     ]
    }
   ],
   "source": [
    "result = ttest_1samp(a = df['Salary'], popmean = 92_000, alternative='less')\n",
    "print('t value: ',result[0])\n",
    "print('p-value using t dist: ',result[1])"
   ]
  },
  {
   "cell_type": "markdown",
   "id": "2be529af",
   "metadata": {},
   "source": [
    "### The claim is that the mean salary is greater than or equal to 93000. Check if the data supports this claim or not. i.e., reject this claim or not."
   ]
  },
  {
   "cell_type": "code",
   "execution_count": 60,
   "id": "3f2f7a92",
   "metadata": {},
   "outputs": [
    {
     "name": "stdout",
     "output_type": "stream",
     "text": [
      "Z critical at significance level:  -1.6448536269514729\n",
      "t or z value:  -2.1587886026261014\n",
      "P-value using z dist:  0.015433285555675469\n",
      "P-value using z dist:  0.01558885238011598\n"
     ]
    }
   ],
   "source": [
    "# H0: mean(Salary) >= 93,000\n",
    "# Ha: mean(Salary) < 93,000\n",
    "# its left-tailed test\n",
    "# alpha = 0.05 (significance level)\n",
    "\n",
    "z_critical = norm.ppf(0.05)\n",
    "print('Z critical at significance level: ', z_critical)\n",
    "\n",
    "z = (df['Salary'].mean()-93_000)/(df['Salary'].std()/np.sqrt(df['Salary'].count()))\n",
    "print('t or z value: ', z)\n",
    "print('P-value using z dist: ',(1- norm.cdf(abs(z))))\n",
    "print('P-value using z dist: ',(1- t.cdf(abs(z), df = df['Salary'].count()-1)))\n",
    "\n",
    "# Since p-value is smaller than the significance level so its statistically significant thus, reject null hypothesis"
   ]
  },
  {
   "cell_type": "code",
   "execution_count": 61,
   "id": "71b9cc67",
   "metadata": {},
   "outputs": [
    {
     "name": "stdout",
     "output_type": "stream",
     "text": [
      "z value:  -2.1587886026261014\n",
      "p-value using z dist:  0.015433285555675419\n"
     ]
    }
   ],
   "source": [
    "result = ztest(x1=df['Salary'], value = 93_000, alternative='smaller') \n",
    "print('z value: ',result[0])\n",
    "print('p-value using z dist: ',result[1])"
   ]
  },
  {
   "cell_type": "code",
   "execution_count": 62,
   "id": "45dc747b",
   "metadata": {},
   "outputs": [
    {
     "name": "stdout",
     "output_type": "stream",
     "text": [
      "t value:  -2.1587886026261014\n",
      "p-value using t dist:  0.015588852380116005\n"
     ]
    }
   ],
   "source": [
    "result = ttest_1samp(a = df['Salary'], popmean = 93_000, alternative='less')\n",
    "print('t value: ',result[0])\n",
    "print('p-value using t dist: ',result[1])"
   ]
  },
  {
   "cell_type": "markdown",
   "id": "b8a757e1",
   "metadata": {},
   "source": [
    "### The claim is that the mean salary is less than or equal to 88000. Check if the data supports this claim or not. i.e., reject this claim or not."
   ]
  },
  {
   "cell_type": "code",
   "execution_count": 63,
   "id": "881f1266",
   "metadata": {},
   "outputs": [
    {
     "name": "stdout",
     "output_type": "stream",
     "text": [
      "Z critical at significance level:  1.6448536269514722\n",
      "t or z value:  2.0464192832138046\n",
      "P-value using z dist:  0.02035756823028878\n",
      "P-value using z dist:  0.020528674104732025\n"
     ]
    }
   ],
   "source": [
    "# H0: mean(Salary) <= 88,000\n",
    "# Ha: mean(Salary) > 88,000\n",
    "# its right-tailed test\n",
    "# alpha = 0.05 (significance level)\n",
    "\n",
    "z_critical = norm.ppf(0.95)\n",
    "print('Z critical at significance level: ', z_critical)\n",
    "\n",
    "z = (df['Salary'].mean()-88_000)/(df['Salary'].std()/np.sqrt(df['Salary'].count()))\n",
    "print('t or z value: ', z)\n",
    "print('P-value using z dist: ',(1- norm.cdf(abs(z))))\n",
    "print('P-value using z dist: ',(1- t.cdf(abs(z), df = df['Salary'].count()-1)))\n",
    "\n",
    "# Since p-value is smaller than the significance level so its statistically significant thus, reject null hypothesis"
   ]
  },
  {
   "cell_type": "code",
   "execution_count": 64,
   "id": "7deb653b",
   "metadata": {},
   "outputs": [
    {
     "name": "stdout",
     "output_type": "stream",
     "text": [
      "z value:  2.0464192832138046\n",
      "p-value using z dist:  0.020357568230288822\n"
     ]
    }
   ],
   "source": [
    "result = ztest(x1=df['Salary'], value = 88_000, alternative='larger') \n",
    "print('z value: ',result[0])\n",
    "print('p-value using z dist: ',result[1])"
   ]
  },
  {
   "cell_type": "code",
   "execution_count": 65,
   "id": "2232397b",
   "metadata": {},
   "outputs": [
    {
     "name": "stdout",
     "output_type": "stream",
     "text": [
      "t value:  2.0464192832138046\n",
      "p-value using t dist:  0.020528674104732036\n"
     ]
    }
   ],
   "source": [
    "result = ttest_1samp(a = df['Salary'], popmean = 88_000, alternative='greater')\n",
    "print('t value: ',result[0])\n",
    "print('p-value using t dist: ',result[1])"
   ]
  },
  {
   "cell_type": "markdown",
   "id": "3ffdc34f",
   "metadata": {},
   "source": [
    "### The claim is that the mean salary is less than or equal to 90000. Check if the data supports this claim or not. i.e., reject this claim or not."
   ]
  },
  {
   "cell_type": "code",
   "execution_count": 66,
   "id": "39f5bcab",
   "metadata": {},
   "outputs": [
    {
     "name": "stdout",
     "output_type": "stream",
     "text": [
      "Z critical at significance level:  1.6448536269514722\n",
      "t or z value:  0.3643361288778422\n",
      "P-value using z dist:  0.3578035120738682\n",
      "P-value using z dist:  0.357853984568286\n"
     ]
    }
   ],
   "source": [
    "# H0: mean(Salary) <= 90,000\n",
    "# Ha: mean(Salary) > 90,000\n",
    "# its right-tailed test\n",
    "# alpha = 0.05 (significance level)\n",
    "\n",
    "z_critical = norm.ppf(0.95)\n",
    "print('Z critical at significance level: ', z_critical)\n",
    "\n",
    "z = (df['Salary'].mean()-90_000)/(df['Salary'].std()/np.sqrt(df['Salary'].count()))\n",
    "print('t or z value: ', z)\n",
    "print('P-value using z dist: ',(1- norm.cdf(abs(z))))\n",
    "print('P-value using z dist: ',(1- t.cdf(abs(z), df = df['Salary'].count()-1)))\n",
    "\n",
    "# Since p-value is greater than significance level meaning its more likely to be by chance thus, can't reject null hyp."
   ]
  },
  {
   "cell_type": "code",
   "execution_count": 67,
   "id": "24e1188a",
   "metadata": {},
   "outputs": [
    {
     "name": "stdout",
     "output_type": "stream",
     "text": [
      "z value:  0.3643361288778422\n",
      "p-value using z dist:  0.3578035120738682\n"
     ]
    }
   ],
   "source": [
    "result = ztest(x1=df['Salary'], value = 90_000, alternative='larger') \n",
    "print('z value: ',result[0])\n",
    "print('p-value using z dist: ',result[1])"
   ]
  },
  {
   "cell_type": "code",
   "execution_count": 68,
   "id": "2c652607",
   "metadata": {},
   "outputs": [
    {
     "name": "stdout",
     "output_type": "stream",
     "text": [
      "t value:  0.3643361288778422\n",
      "p-value using t dist:  0.3578539845682859\n"
     ]
    }
   ],
   "source": [
    "result = ttest_1samp(a = df['Salary'], popmean = 90_000, alternative='greater')\n",
    "print('t value: ',result[0])\n",
    "print('p-value using t dist: ',result[1])"
   ]
  },
  {
   "cell_type": "code",
   "execution_count": null,
   "id": "7e34a3c9",
   "metadata": {},
   "outputs": [],
   "source": []
  }
 ],
 "metadata": {
  "kernelspec": {
   "display_name": "Python 3 (ipykernel)",
   "language": "python",
   "name": "python3"
  },
  "language_info": {
   "codemirror_mode": {
    "name": "ipython",
    "version": 3
   },
   "file_extension": ".py",
   "mimetype": "text/x-python",
   "name": "python",
   "nbconvert_exporter": "python",
   "pygments_lexer": "ipython3",
   "version": "3.10.7"
  }
 },
 "nbformat": 4,
 "nbformat_minor": 5
}
